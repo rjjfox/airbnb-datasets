{
 "cells": [
  {
   "cell_type": "markdown",
   "metadata": {},
   "source": [
    "# How much should you price your Boston Airbnb?\n",
    "\n",
    "Modelling Boston Airbnb prices\n",
    "\n",
    "Maybe you have a place that you're fortunate enough to be able to potentially place on Airbnb but you're not sure if it's worth the hassle. With Airbnb making host listing data publicly available, we can break down the prices to understand what factors influence how much you can charge. We'll go through that here, geeking out on the methods used and giving you an easy guide for getting a rough idea for how much you might be able to charge if you have a place in Boston you can rent out.\n",
    "\n",
    "Note: Airbnb also gives pricing tips based on much more sophisticated models than I can accomplish here ([more details](https://www.vrmintel.com/inside-airbnbs-algorithm/)). You'll need to start filling out your listing to get this info so this kernel will give you a very rough guide to get you started.\n",
    "\n",
    "Alternatively, the findings from this kernel apply to those looking to understand which filters to play around with when trying to find a cheap (or expensive?) place, if you don't want to use the price filter on the search page ¯\\_(ツ)_/¯."
   ]
  },
  {
   "cell_type": "markdown",
   "metadata": {},
   "source": [
    "## What data are we working with?\n",
    "\n",
    "We're given three datasets:\n",
    "\n",
    "- calendar.csv - listings with dates detailing whether they're available or not and how much they cost to rent on each date.\n",
    "- listings.csv - lots of information about each listing including text descriptions, host details, number of bedrooms, bathrooms, location and more.\n",
    "- reviews.csv - full text reviews for those listings that have been reviewed\n",
    "\n",
    "We will mostly focus on `listings.csv` and pull date-sensitive prices from `calendar.csv`."
   ]
  },
  {
   "cell_type": "code",
   "execution_count": 1,
   "metadata": {},
   "outputs": [
    {
     "data": {
      "text/html": [
       "<div>\n",
       "<style scoped>\n",
       "    .dataframe tbody tr th:only-of-type {\n",
       "        vertical-align: middle;\n",
       "    }\n",
       "\n",
       "    .dataframe tbody tr th {\n",
       "        vertical-align: top;\n",
       "    }\n",
       "\n",
       "    .dataframe thead th {\n",
       "        text-align: right;\n",
       "    }\n",
       "</style>\n",
       "<table border=\"1\" class=\"dataframe\">\n",
       "  <thead>\n",
       "    <tr style=\"text-align: right;\">\n",
       "      <th></th>\n",
       "      <th>listing_id</th>\n",
       "      <th>date</th>\n",
       "      <th>available</th>\n",
       "      <th>price</th>\n",
       "    </tr>\n",
       "  </thead>\n",
       "  <tbody>\n",
       "    <tr>\n",
       "      <td>1268158</td>\n",
       "      <td>8607856</td>\n",
       "      <td>2017-03-28</td>\n",
       "      <td>f</td>\n",
       "      <td>NaN</td>\n",
       "    </tr>\n",
       "    <tr>\n",
       "      <td>1293899</td>\n",
       "      <td>14866400</td>\n",
       "      <td>2016-10-01</td>\n",
       "      <td>f</td>\n",
       "      <td>NaN</td>\n",
       "    </tr>\n",
       "    <tr>\n",
       "      <td>89806</td>\n",
       "      <td>12855343</td>\n",
       "      <td>2017-07-26</td>\n",
       "      <td>f</td>\n",
       "      <td>NaN</td>\n",
       "    </tr>\n",
       "  </tbody>\n",
       "</table>\n",
       "</div>"
      ],
      "text/plain": [
       "         listing_id        date available price\n",
       "1268158     8607856  2017-03-28         f   NaN\n",
       "1293899    14866400  2016-10-01         f   NaN\n",
       "89806      12855343  2017-07-26         f   NaN"
      ]
     },
     "metadata": {},
     "output_type": "display_data"
    },
    {
     "data": {
      "text/html": [
       "<div>\n",
       "<style scoped>\n",
       "    .dataframe tbody tr th:only-of-type {\n",
       "        vertical-align: middle;\n",
       "    }\n",
       "\n",
       "    .dataframe tbody tr th {\n",
       "        vertical-align: top;\n",
       "    }\n",
       "\n",
       "    .dataframe thead th {\n",
       "        text-align: right;\n",
       "    }\n",
       "</style>\n",
       "<table border=\"1\" class=\"dataframe\">\n",
       "  <thead>\n",
       "    <tr style=\"text-align: right;\">\n",
       "      <th></th>\n",
       "      <th>id</th>\n",
       "      <th>listing_url</th>\n",
       "      <th>scrape_id</th>\n",
       "      <th>last_scraped</th>\n",
       "      <th>name</th>\n",
       "      <th>summary</th>\n",
       "      <th>space</th>\n",
       "      <th>description</th>\n",
       "      <th>experiences_offered</th>\n",
       "      <th>neighborhood_overview</th>\n",
       "      <th>notes</th>\n",
       "      <th>transit</th>\n",
       "      <th>access</th>\n",
       "      <th>interaction</th>\n",
       "      <th>house_rules</th>\n",
       "      <th>thumbnail_url</th>\n",
       "      <th>medium_url</th>\n",
       "      <th>picture_url</th>\n",
       "      <th>xl_picture_url</th>\n",
       "      <th>host_id</th>\n",
       "      <th>host_url</th>\n",
       "      <th>host_name</th>\n",
       "      <th>host_since</th>\n",
       "      <th>host_location</th>\n",
       "      <th>host_about</th>\n",
       "      <th>host_response_time</th>\n",
       "      <th>host_response_rate</th>\n",
       "      <th>host_acceptance_rate</th>\n",
       "      <th>host_is_superhost</th>\n",
       "      <th>host_thumbnail_url</th>\n",
       "      <th>host_picture_url</th>\n",
       "      <th>host_neighbourhood</th>\n",
       "      <th>host_listings_count</th>\n",
       "      <th>host_total_listings_count</th>\n",
       "      <th>host_verifications</th>\n",
       "      <th>host_has_profile_pic</th>\n",
       "      <th>host_identity_verified</th>\n",
       "      <th>street</th>\n",
       "      <th>neighbourhood</th>\n",
       "      <th>neighbourhood_cleansed</th>\n",
       "      <th>neighbourhood_group_cleansed</th>\n",
       "      <th>city</th>\n",
       "      <th>state</th>\n",
       "      <th>zipcode</th>\n",
       "      <th>market</th>\n",
       "      <th>smart_location</th>\n",
       "      <th>country_code</th>\n",
       "      <th>country</th>\n",
       "      <th>latitude</th>\n",
       "      <th>longitude</th>\n",
       "      <th>is_location_exact</th>\n",
       "      <th>property_type</th>\n",
       "      <th>room_type</th>\n",
       "      <th>accommodates</th>\n",
       "      <th>bathrooms</th>\n",
       "      <th>bedrooms</th>\n",
       "      <th>beds</th>\n",
       "      <th>bed_type</th>\n",
       "      <th>amenities</th>\n",
       "      <th>square_feet</th>\n",
       "      <th>price</th>\n",
       "      <th>weekly_price</th>\n",
       "      <th>monthly_price</th>\n",
       "      <th>security_deposit</th>\n",
       "      <th>cleaning_fee</th>\n",
       "      <th>guests_included</th>\n",
       "      <th>extra_people</th>\n",
       "      <th>minimum_nights</th>\n",
       "      <th>maximum_nights</th>\n",
       "      <th>calendar_updated</th>\n",
       "      <th>has_availability</th>\n",
       "      <th>availability_30</th>\n",
       "      <th>availability_60</th>\n",
       "      <th>availability_90</th>\n",
       "      <th>availability_365</th>\n",
       "      <th>calendar_last_scraped</th>\n",
       "      <th>number_of_reviews</th>\n",
       "      <th>first_review</th>\n",
       "      <th>last_review</th>\n",
       "      <th>review_scores_rating</th>\n",
       "      <th>review_scores_accuracy</th>\n",
       "      <th>review_scores_cleanliness</th>\n",
       "      <th>review_scores_checkin</th>\n",
       "      <th>review_scores_communication</th>\n",
       "      <th>review_scores_location</th>\n",
       "      <th>review_scores_value</th>\n",
       "      <th>requires_license</th>\n",
       "      <th>license</th>\n",
       "      <th>jurisdiction_names</th>\n",
       "      <th>instant_bookable</th>\n",
       "      <th>cancellation_policy</th>\n",
       "      <th>require_guest_profile_picture</th>\n",
       "      <th>require_guest_phone_verification</th>\n",
       "      <th>calculated_host_listings_count</th>\n",
       "      <th>reviews_per_month</th>\n",
       "    </tr>\n",
       "  </thead>\n",
       "  <tbody>\n",
       "    <tr>\n",
       "      <td>651</td>\n",
       "      <td>14857923</td>\n",
       "      <td>https://www.airbnb.com/rooms/14857923</td>\n",
       "      <td>20160906204935</td>\n",
       "      <td>2016-09-07</td>\n",
       "      <td>2 Bedroom North End, Walk to Everything, Cozy!</td>\n",
       "      <td>First floor apartment, NO stairs! Two bedrooms...</td>\n",
       "      <td>NaN</td>\n",
       "      <td>First floor apartment, NO stairs! Two bedrooms...</td>\n",
       "      <td>none</td>\n",
       "      <td>NaN</td>\n",
       "      <td>NaN</td>\n",
       "      <td>NaN</td>\n",
       "      <td>NaN</td>\n",
       "      <td>NaN</td>\n",
       "      <td>- No parties, NO smoking, treat unit respectfully</td>\n",
       "      <td>https://a2.muscache.com/im/pictures/afb3b191-f...</td>\n",
       "      <td>https://a2.muscache.com/im/pictures/afb3b191-f...</td>\n",
       "      <td>https://a2.muscache.com/im/pictures/afb3b191-f...</td>\n",
       "      <td>https://a2.muscache.com/im/pictures/afb3b191-f...</td>\n",
       "      <td>21184200</td>\n",
       "      <td>https://www.airbnb.com/users/show/21184200</td>\n",
       "      <td>Paige</td>\n",
       "      <td>2014-09-10</td>\n",
       "      <td>Boston, Massachusetts, United States</td>\n",
       "      <td>Hi and welcome to Boston! I'm a local Real Est...</td>\n",
       "      <td>within an hour</td>\n",
       "      <td>99%</td>\n",
       "      <td>81%</td>\n",
       "      <td>f</td>\n",
       "      <td>https://a2.muscache.com/im/pictures/b54817f1-c...</td>\n",
       "      <td>https://a2.muscache.com/im/pictures/b54817f1-c...</td>\n",
       "      <td>South Boston</td>\n",
       "      <td>30</td>\n",
       "      <td>30</td>\n",
       "      <td>['email', 'phone', 'amex', 'reviews', 'kba']</td>\n",
       "      <td>t</td>\n",
       "      <td>t</td>\n",
       "      <td>Endicott Street, Boston, MA 02113, United States</td>\n",
       "      <td>North End</td>\n",
       "      <td>North End</td>\n",
       "      <td>NaN</td>\n",
       "      <td>Boston</td>\n",
       "      <td>MA</td>\n",
       "      <td>02113</td>\n",
       "      <td>Boston</td>\n",
       "      <td>Boston, MA</td>\n",
       "      <td>US</td>\n",
       "      <td>United States</td>\n",
       "      <td>42.365929</td>\n",
       "      <td>-71.056603</td>\n",
       "      <td>t</td>\n",
       "      <td>Apartment</td>\n",
       "      <td>Entire home/apt</td>\n",
       "      <td>5</td>\n",
       "      <td>1.0</td>\n",
       "      <td>2.0</td>\n",
       "      <td>2.0</td>\n",
       "      <td>Real Bed</td>\n",
       "      <td>{TV,\"Wireless Internet\",Kitchen,\"Pets Allowed\"...</td>\n",
       "      <td>NaN</td>\n",
       "      <td>$260.00</td>\n",
       "      <td>NaN</td>\n",
       "      <td>NaN</td>\n",
       "      <td>$99.00</td>\n",
       "      <td>$60.00</td>\n",
       "      <td>4</td>\n",
       "      <td>$40.00</td>\n",
       "      <td>1</td>\n",
       "      <td>1125</td>\n",
       "      <td>today</td>\n",
       "      <td>NaN</td>\n",
       "      <td>16</td>\n",
       "      <td>39</td>\n",
       "      <td>69</td>\n",
       "      <td>344</td>\n",
       "      <td>2016-09-06</td>\n",
       "      <td>0</td>\n",
       "      <td>NaN</td>\n",
       "      <td>NaN</td>\n",
       "      <td>NaN</td>\n",
       "      <td>NaN</td>\n",
       "      <td>NaN</td>\n",
       "      <td>NaN</td>\n",
       "      <td>NaN</td>\n",
       "      <td>NaN</td>\n",
       "      <td>NaN</td>\n",
       "      <td>f</td>\n",
       "      <td>NaN</td>\n",
       "      <td>NaN</td>\n",
       "      <td>f</td>\n",
       "      <td>strict</td>\n",
       "      <td>f</td>\n",
       "      <td>f</td>\n",
       "      <td>24</td>\n",
       "      <td>NaN</td>\n",
       "    </tr>\n",
       "    <tr>\n",
       "      <td>2588</td>\n",
       "      <td>7054058</td>\n",
       "      <td>https://www.airbnb.com/rooms/7054058</td>\n",
       "      <td>20160906204935</td>\n",
       "      <td>2016-09-07</td>\n",
       "      <td>Spacious Apt w/Patio &amp; BBQ</td>\n",
       "      <td>This two bedroom apartment in Cleveland Circle...</td>\n",
       "      <td>My roommate and I share a huge two bedroom apa...</td>\n",
       "      <td>This two bedroom apartment in Cleveland Circle...</td>\n",
       "      <td>none</td>\n",
       "      <td>Cleveland Circle is a beautiful and safe neigh...</td>\n",
       "      <td>NaN</td>\n",
       "      <td>The B, C, and D trains and restaurants are all...</td>\n",
       "      <td>You are welcome to enjoy the kitchen, living r...</td>\n",
       "      <td>NaN</td>\n",
       "      <td>Absolutely no smoking/drugs Keep the place as ...</td>\n",
       "      <td>https://a2.muscache.com/im/pictures/9f9eadea-6...</td>\n",
       "      <td>https://a2.muscache.com/im/pictures/9f9eadea-6...</td>\n",
       "      <td>https://a2.muscache.com/im/pictures/9f9eadea-6...</td>\n",
       "      <td>https://a2.muscache.com/im/pictures/9f9eadea-6...</td>\n",
       "      <td>7198154</td>\n",
       "      <td>https://www.airbnb.com/users/show/7198154</td>\n",
       "      <td>Marlo</td>\n",
       "      <td>2013-06-30</td>\n",
       "      <td>Boston, Massachusetts, United States</td>\n",
       "      <td>I work as a Tech Consultant.  My job lets me t...</td>\n",
       "      <td>within an hour</td>\n",
       "      <td>100%</td>\n",
       "      <td>95%</td>\n",
       "      <td>t</td>\n",
       "      <td>https://a2.muscache.com/im/pictures/a1e14687-e...</td>\n",
       "      <td>https://a2.muscache.com/im/pictures/a1e14687-e...</td>\n",
       "      <td>Allston-Brighton</td>\n",
       "      <td>3</td>\n",
       "      <td>3</td>\n",
       "      <td>['email', 'phone', 'google', 'linkedin', 'amex...</td>\n",
       "      <td>t</td>\n",
       "      <td>t</td>\n",
       "      <td>Sutherland Road, Boston, MA 02135, United States</td>\n",
       "      <td>Allston-Brighton</td>\n",
       "      <td>Brighton</td>\n",
       "      <td>NaN</td>\n",
       "      <td>Boston</td>\n",
       "      <td>MA</td>\n",
       "      <td>02135</td>\n",
       "      <td>Boston</td>\n",
       "      <td>Boston, MA</td>\n",
       "      <td>US</td>\n",
       "      <td>United States</td>\n",
       "      <td>42.337170</td>\n",
       "      <td>-71.149654</td>\n",
       "      <td>t</td>\n",
       "      <td>Apartment</td>\n",
       "      <td>Entire home/apt</td>\n",
       "      <td>4</td>\n",
       "      <td>1.0</td>\n",
       "      <td>2.0</td>\n",
       "      <td>2.0</td>\n",
       "      <td>Real Bed</td>\n",
       "      <td>{TV,\"Cable TV\",Internet,\"Wireless Internet\",\"A...</td>\n",
       "      <td>NaN</td>\n",
       "      <td>$150.00</td>\n",
       "      <td>NaN</td>\n",
       "      <td>NaN</td>\n",
       "      <td>NaN</td>\n",
       "      <td>$10.00</td>\n",
       "      <td>2</td>\n",
       "      <td>$0.00</td>\n",
       "      <td>3</td>\n",
       "      <td>10</td>\n",
       "      <td>today</td>\n",
       "      <td>NaN</td>\n",
       "      <td>3</td>\n",
       "      <td>3</td>\n",
       "      <td>3</td>\n",
       "      <td>3</td>\n",
       "      <td>2016-09-06</td>\n",
       "      <td>14</td>\n",
       "      <td>2015-07-14</td>\n",
       "      <td>2016-07-31</td>\n",
       "      <td>96.0</td>\n",
       "      <td>10.0</td>\n",
       "      <td>10.0</td>\n",
       "      <td>10.0</td>\n",
       "      <td>10.0</td>\n",
       "      <td>9.0</td>\n",
       "      <td>9.0</td>\n",
       "      <td>f</td>\n",
       "      <td>NaN</td>\n",
       "      <td>NaN</td>\n",
       "      <td>f</td>\n",
       "      <td>moderate</td>\n",
       "      <td>f</td>\n",
       "      <td>f</td>\n",
       "      <td>3</td>\n",
       "      <td>1.00</td>\n",
       "    </tr>\n",
       "    <tr>\n",
       "      <td>551</td>\n",
       "      <td>4053612</td>\n",
       "      <td>https://www.airbnb.com/rooms/4053612</td>\n",
       "      <td>20160906204935</td>\n",
       "      <td>2016-09-07</td>\n",
       "      <td>2 BR Luxury Condo, Downtown Boston</td>\n",
       "      <td>2 BR / 1 BA 1,500 sf - 140 m2 Great vibe, loft...</td>\n",
       "      <td>Luxury condo, loft style, with 2 separate bedr...</td>\n",
       "      <td>2 BR / 1 BA 1,500 sf - 140 m2 Great vibe, loft...</td>\n",
       "      <td>none</td>\n",
       "      <td>Centrally located between downtown, Chinatown,...</td>\n",
       "      <td>Fire extinguisher is in common hallway, next t...</td>\n",
       "      <td>Close to - Logan airport (3.5 miles, 10 minute...</td>\n",
       "      <td>NaN</td>\n",
       "      <td>NaN</td>\n",
       "      <td>Apologies if some of this seems obvious. Keep ...</td>\n",
       "      <td>NaN</td>\n",
       "      <td>NaN</td>\n",
       "      <td>https://a1.muscache.com/im/pictures/50961472/1...</td>\n",
       "      <td>NaN</td>\n",
       "      <td>21021264</td>\n",
       "      <td>https://www.airbnb.com/users/show/21021264</td>\n",
       "      <td>Judy</td>\n",
       "      <td>2014-09-06</td>\n",
       "      <td>Boston, Massachusetts, United States</td>\n",
       "      <td>NaN</td>\n",
       "      <td>within a few hours</td>\n",
       "      <td>100%</td>\n",
       "      <td>75%</td>\n",
       "      <td>f</td>\n",
       "      <td>https://a1.muscache.com/im/users/21021264/prof...</td>\n",
       "      <td>https://a1.muscache.com/im/users/21021264/prof...</td>\n",
       "      <td>Leather District</td>\n",
       "      <td>2</td>\n",
       "      <td>2</td>\n",
       "      <td>['email', 'phone', 'reviews', 'kba']</td>\n",
       "      <td>t</td>\n",
       "      <td>t</td>\n",
       "      <td>Lincoln Street, Boston, MA 02111, United States</td>\n",
       "      <td>Leather District</td>\n",
       "      <td>Leather District</td>\n",
       "      <td>NaN</td>\n",
       "      <td>Boston</td>\n",
       "      <td>MA</td>\n",
       "      <td>02111</td>\n",
       "      <td>Boston</td>\n",
       "      <td>Boston, MA</td>\n",
       "      <td>US</td>\n",
       "      <td>United States</td>\n",
       "      <td>42.351322</td>\n",
       "      <td>-71.057655</td>\n",
       "      <td>t</td>\n",
       "      <td>Condominium</td>\n",
       "      <td>Entire home/apt</td>\n",
       "      <td>4</td>\n",
       "      <td>1.0</td>\n",
       "      <td>2.0</td>\n",
       "      <td>3.0</td>\n",
       "      <td>Real Bed</td>\n",
       "      <td>{TV,Internet,\"Wireless Internet\",\"Air Conditio...</td>\n",
       "      <td>NaN</td>\n",
       "      <td>$390.00</td>\n",
       "      <td>NaN</td>\n",
       "      <td>NaN</td>\n",
       "      <td>$2,500.00</td>\n",
       "      <td>$95.00</td>\n",
       "      <td>4</td>\n",
       "      <td>$150.00</td>\n",
       "      <td>1</td>\n",
       "      <td>1125</td>\n",
       "      <td>a week ago</td>\n",
       "      <td>NaN</td>\n",
       "      <td>25</td>\n",
       "      <td>55</td>\n",
       "      <td>85</td>\n",
       "      <td>360</td>\n",
       "      <td>2016-09-06</td>\n",
       "      <td>30</td>\n",
       "      <td>2014-09-12</td>\n",
       "      <td>2016-07-21</td>\n",
       "      <td>95.0</td>\n",
       "      <td>10.0</td>\n",
       "      <td>10.0</td>\n",
       "      <td>10.0</td>\n",
       "      <td>10.0</td>\n",
       "      <td>9.0</td>\n",
       "      <td>9.0</td>\n",
       "      <td>f</td>\n",
       "      <td>NaN</td>\n",
       "      <td>NaN</td>\n",
       "      <td>f</td>\n",
       "      <td>moderate</td>\n",
       "      <td>f</td>\n",
       "      <td>f</td>\n",
       "      <td>2</td>\n",
       "      <td>1.24</td>\n",
       "    </tr>\n",
       "  </tbody>\n",
       "</table>\n",
       "</div>"
      ],
      "text/plain": [
       "            id                            listing_url       scrape_id  \\\n",
       "651   14857923  https://www.airbnb.com/rooms/14857923  20160906204935   \n",
       "2588   7054058   https://www.airbnb.com/rooms/7054058  20160906204935   \n",
       "551    4053612   https://www.airbnb.com/rooms/4053612  20160906204935   \n",
       "\n",
       "     last_scraped                                            name  \\\n",
       "651    2016-09-07  2 Bedroom North End, Walk to Everything, Cozy!   \n",
       "2588   2016-09-07                      Spacious Apt w/Patio & BBQ   \n",
       "551    2016-09-07              2 BR Luxury Condo, Downtown Boston   \n",
       "\n",
       "                                                summary  \\\n",
       "651   First floor apartment, NO stairs! Two bedrooms...   \n",
       "2588  This two bedroom apartment in Cleveland Circle...   \n",
       "551   2 BR / 1 BA 1,500 sf - 140 m2 Great vibe, loft...   \n",
       "\n",
       "                                                  space  \\\n",
       "651                                                 NaN   \n",
       "2588  My roommate and I share a huge two bedroom apa...   \n",
       "551   Luxury condo, loft style, with 2 separate bedr...   \n",
       "\n",
       "                                            description experiences_offered  \\\n",
       "651   First floor apartment, NO stairs! Two bedrooms...                none   \n",
       "2588  This two bedroom apartment in Cleveland Circle...                none   \n",
       "551   2 BR / 1 BA 1,500 sf - 140 m2 Great vibe, loft...                none   \n",
       "\n",
       "                                  neighborhood_overview  \\\n",
       "651                                                 NaN   \n",
       "2588  Cleveland Circle is a beautiful and safe neigh...   \n",
       "551   Centrally located between downtown, Chinatown,...   \n",
       "\n",
       "                                                  notes  \\\n",
       "651                                                 NaN   \n",
       "2588                                                NaN   \n",
       "551   Fire extinguisher is in common hallway, next t...   \n",
       "\n",
       "                                                transit  \\\n",
       "651                                                 NaN   \n",
       "2588  The B, C, and D trains and restaurants are all...   \n",
       "551   Close to - Logan airport (3.5 miles, 10 minute...   \n",
       "\n",
       "                                                 access interaction  \\\n",
       "651                                                 NaN         NaN   \n",
       "2588  You are welcome to enjoy the kitchen, living r...         NaN   \n",
       "551                                                 NaN         NaN   \n",
       "\n",
       "                                            house_rules  \\\n",
       "651   - No parties, NO smoking, treat unit respectfully   \n",
       "2588  Absolutely no smoking/drugs Keep the place as ...   \n",
       "551   Apologies if some of this seems obvious. Keep ...   \n",
       "\n",
       "                                          thumbnail_url  \\\n",
       "651   https://a2.muscache.com/im/pictures/afb3b191-f...   \n",
       "2588  https://a2.muscache.com/im/pictures/9f9eadea-6...   \n",
       "551                                                 NaN   \n",
       "\n",
       "                                             medium_url  \\\n",
       "651   https://a2.muscache.com/im/pictures/afb3b191-f...   \n",
       "2588  https://a2.muscache.com/im/pictures/9f9eadea-6...   \n",
       "551                                                 NaN   \n",
       "\n",
       "                                            picture_url  \\\n",
       "651   https://a2.muscache.com/im/pictures/afb3b191-f...   \n",
       "2588  https://a2.muscache.com/im/pictures/9f9eadea-6...   \n",
       "551   https://a1.muscache.com/im/pictures/50961472/1...   \n",
       "\n",
       "                                         xl_picture_url   host_id  \\\n",
       "651   https://a2.muscache.com/im/pictures/afb3b191-f...  21184200   \n",
       "2588  https://a2.muscache.com/im/pictures/9f9eadea-6...   7198154   \n",
       "551                                                 NaN  21021264   \n",
       "\n",
       "                                        host_url host_name  host_since  \\\n",
       "651   https://www.airbnb.com/users/show/21184200     Paige  2014-09-10   \n",
       "2588   https://www.airbnb.com/users/show/7198154     Marlo  2013-06-30   \n",
       "551   https://www.airbnb.com/users/show/21021264      Judy  2014-09-06   \n",
       "\n",
       "                             host_location  \\\n",
       "651   Boston, Massachusetts, United States   \n",
       "2588  Boston, Massachusetts, United States   \n",
       "551   Boston, Massachusetts, United States   \n",
       "\n",
       "                                             host_about  host_response_time  \\\n",
       "651   Hi and welcome to Boston! I'm a local Real Est...      within an hour   \n",
       "2588  I work as a Tech Consultant.  My job lets me t...      within an hour   \n",
       "551                                                 NaN  within a few hours   \n",
       "\n",
       "     host_response_rate host_acceptance_rate host_is_superhost  \\\n",
       "651                 99%                  81%                 f   \n",
       "2588               100%                  95%                 t   \n",
       "551                100%                  75%                 f   \n",
       "\n",
       "                                     host_thumbnail_url  \\\n",
       "651   https://a2.muscache.com/im/pictures/b54817f1-c...   \n",
       "2588  https://a2.muscache.com/im/pictures/a1e14687-e...   \n",
       "551   https://a1.muscache.com/im/users/21021264/prof...   \n",
       "\n",
       "                                       host_picture_url host_neighbourhood  \\\n",
       "651   https://a2.muscache.com/im/pictures/b54817f1-c...       South Boston   \n",
       "2588  https://a2.muscache.com/im/pictures/a1e14687-e...   Allston-Brighton   \n",
       "551   https://a1.muscache.com/im/users/21021264/prof...   Leather District   \n",
       "\n",
       "      host_listings_count  host_total_listings_count  \\\n",
       "651                    30                         30   \n",
       "2588                    3                          3   \n",
       "551                     2                          2   \n",
       "\n",
       "                                     host_verifications host_has_profile_pic  \\\n",
       "651        ['email', 'phone', 'amex', 'reviews', 'kba']                    t   \n",
       "2588  ['email', 'phone', 'google', 'linkedin', 'amex...                    t   \n",
       "551                ['email', 'phone', 'reviews', 'kba']                    t   \n",
       "\n",
       "     host_identity_verified                                            street  \\\n",
       "651                       t  Endicott Street, Boston, MA 02113, United States   \n",
       "2588                      t  Sutherland Road, Boston, MA 02135, United States   \n",
       "551                       t   Lincoln Street, Boston, MA 02111, United States   \n",
       "\n",
       "         neighbourhood neighbourhood_cleansed  neighbourhood_group_cleansed  \\\n",
       "651          North End              North End                           NaN   \n",
       "2588  Allston-Brighton               Brighton                           NaN   \n",
       "551   Leather District       Leather District                           NaN   \n",
       "\n",
       "        city state zipcode  market smart_location country_code        country  \\\n",
       "651   Boston    MA   02113  Boston     Boston, MA           US  United States   \n",
       "2588  Boston    MA   02135  Boston     Boston, MA           US  United States   \n",
       "551   Boston    MA   02111  Boston     Boston, MA           US  United States   \n",
       "\n",
       "       latitude  longitude is_location_exact property_type        room_type  \\\n",
       "651   42.365929 -71.056603                 t     Apartment  Entire home/apt   \n",
       "2588  42.337170 -71.149654                 t     Apartment  Entire home/apt   \n",
       "551   42.351322 -71.057655                 t   Condominium  Entire home/apt   \n",
       "\n",
       "      accommodates  bathrooms  bedrooms  beds  bed_type  \\\n",
       "651              5        1.0       2.0   2.0  Real Bed   \n",
       "2588             4        1.0       2.0   2.0  Real Bed   \n",
       "551              4        1.0       2.0   3.0  Real Bed   \n",
       "\n",
       "                                              amenities  square_feet    price  \\\n",
       "651   {TV,\"Wireless Internet\",Kitchen,\"Pets Allowed\"...          NaN  $260.00   \n",
       "2588  {TV,\"Cable TV\",Internet,\"Wireless Internet\",\"A...          NaN  $150.00   \n",
       "551   {TV,Internet,\"Wireless Internet\",\"Air Conditio...          NaN  $390.00   \n",
       "\n",
       "     weekly_price monthly_price security_deposit cleaning_fee  \\\n",
       "651           NaN           NaN           $99.00       $60.00   \n",
       "2588          NaN           NaN              NaN       $10.00   \n",
       "551           NaN           NaN        $2,500.00       $95.00   \n",
       "\n",
       "      guests_included extra_people  minimum_nights  maximum_nights  \\\n",
       "651                 4       $40.00               1            1125   \n",
       "2588                2        $0.00               3              10   \n",
       "551                 4      $150.00               1            1125   \n",
       "\n",
       "     calendar_updated  has_availability  availability_30  availability_60  \\\n",
       "651             today               NaN               16               39   \n",
       "2588            today               NaN                3                3   \n",
       "551        a week ago               NaN               25               55   \n",
       "\n",
       "      availability_90  availability_365 calendar_last_scraped  \\\n",
       "651                69               344            2016-09-06   \n",
       "2588                3                 3            2016-09-06   \n",
       "551                85               360            2016-09-06   \n",
       "\n",
       "      number_of_reviews first_review last_review  review_scores_rating  \\\n",
       "651                   0          NaN         NaN                   NaN   \n",
       "2588                 14   2015-07-14  2016-07-31                  96.0   \n",
       "551                  30   2014-09-12  2016-07-21                  95.0   \n",
       "\n",
       "      review_scores_accuracy  review_scores_cleanliness  \\\n",
       "651                      NaN                        NaN   \n",
       "2588                    10.0                       10.0   \n",
       "551                     10.0                       10.0   \n",
       "\n",
       "      review_scores_checkin  review_scores_communication  \\\n",
       "651                     NaN                          NaN   \n",
       "2588                   10.0                         10.0   \n",
       "551                    10.0                         10.0   \n",
       "\n",
       "      review_scores_location  review_scores_value requires_license  license  \\\n",
       "651                      NaN                  NaN                f      NaN   \n",
       "2588                     9.0                  9.0                f      NaN   \n",
       "551                      9.0                  9.0                f      NaN   \n",
       "\n",
       "      jurisdiction_names instant_bookable cancellation_policy  \\\n",
       "651                  NaN                f              strict   \n",
       "2588                 NaN                f            moderate   \n",
       "551                  NaN                f            moderate   \n",
       "\n",
       "     require_guest_profile_picture require_guest_phone_verification  \\\n",
       "651                              f                                f   \n",
       "2588                             f                                f   \n",
       "551                              f                                f   \n",
       "\n",
       "      calculated_host_listings_count  reviews_per_month  \n",
       "651                               24                NaN  \n",
       "2588                               3               1.00  \n",
       "551                                2               1.24  "
      ]
     },
     "metadata": {},
     "output_type": "display_data"
    }
   ],
   "source": [
    "import pandas as pd\n",
    "import numpy as np\n",
    "import matplotlib.pyplot as plt\n",
    "import seaborn as sns\n",
    "\n",
    "# Show maximum 500 columns when displaying dataframes\n",
    "pd.set_option('display.max_columns', 500)\n",
    "\n",
    "# Use Seaborn standard design palette for plots\n",
    "sns.set()\n",
    "\n",
    "calendar = pd.read_csv('data/boston/calendar.csv')\n",
    "listings = pd.read_csv('data/boston/listings.csv')\n",
    "\n",
    "for dataset in [calendar, listings]:\n",
    "    display(dataset.sample(3))"
   ]
  },
  {
   "cell_type": "markdown",
   "metadata": {},
   "source": [
    "## Listings data clean up"
   ]
  },
  {
   "cell_type": "code",
   "execution_count": 2,
   "metadata": {},
   "outputs": [
    {
     "name": "stdout",
     "output_type": "stream",
     "text": [
      "The dataset contains 3585 from 2181 hosts.\n"
     ]
    }
   ],
   "source": [
    "print(f'The dataset contains {len(listings.id.unique())} from {len(listings.host_id.unique())} hosts.')"
   ]
  },
  {
   "cell_type": "markdown",
   "metadata": {},
   "source": [
    "From the missingno matrix we see that we have a few features with only null values and some with mostly null values. We'll drop these along with any columns containing only one unique value and columns containing IDs or URL links."
   ]
  },
  {
   "cell_type": "code",
   "execution_count": 3,
   "metadata": {},
   "outputs": [
    {
     "data": {
      "image/png": "[encoded data removed]",
      "text/plain": [
       "<Figure size 1800x720 with 2 Axes>"
      ]
     },
     "metadata": {},
     "output_type": "display_data"
    }
   ],
   "source": [
    "import missingno as msno\n",
    "\n",
    "msno.matrix(listings);"
   ]
  },
  {
   "cell_type": "code",
   "execution_count": 4,
   "metadata": {},
   "outputs": [
    {
     "name": "stdout",
     "output_type": "stream",
     "text": [
      "29 columns dropped:    \n",
      "\t4 columns with only null values    \n",
      "\t5 columns with more than 50% null values    \n",
      "\t8 columns with only one unique value    \n",
      "\t12 URL/ID/name columns\n"
     ]
    }
   ],
   "source": [
    "# Note number of columns\n",
    "before = len(listings.columns)\n",
    "\n",
    "# Drop columns with all null values\n",
    "all_null = len(listings.columns[listings.isnull().mean() == 1])\n",
    "listings = listings.dropna(how='all', axis=1)\n",
    "\n",
    "# Drop columns with more than 50% null values\n",
    "more_than_50_null = listings.columns[listings.isnull().mean() > 0.5]\n",
    "listings = listings.drop(more_than_50_null, axis=1)\n",
    "\n",
    "# Drop columns with only one value\n",
    "one_value_columns = [\n",
    "    column for column in listings.columns if len(listings[column].unique()) == 1\n",
    "]\n",
    "listings.drop(one_value_columns, axis=1, inplace=True)\n",
    "\n",
    "# Drop url, ID (except for 'id') and name columns\n",
    "url_id_columns = listings.columns[listings.columns.str.contains('url|_id|name')]\n",
    "listings = listings.drop(url_id_columns, axis=1)\n",
    "\n",
    "print(\n",
    "    '{} columns dropped:\\\n",
    "    \\n\\t{} columns with only null values\\\n",
    "    \\n\\t{} columns with more than 50% null values\\\n",
    "    \\n\\t{} columns with only one unique value\\\n",
    "    \\n\\t{} URL/ID/name columns'.format(\n",
    "        before - len(listings.columns), all_null, len(more_than_50_null),\n",
    "        len(one_value_columns), len(url_id_columns)\n",
    "    )\n",
    ")"
   ]
  },
  {
   "cell_type": "markdown",
   "metadata": {},
   "source": [
    "Now we will drop a bunch of features for various reasons:\n",
    "- they're covered by other features\n",
    "- they are likely to add variance to the model by being colinear to our target variable\n",
    "- they are almost completely one value"
   ]
  },
  {
   "cell_type": "code",
   "execution_count": 5,
   "metadata": {},
   "outputs": [],
   "source": [
    "to_drop = [\n",
    "    'host_neighbourhood', 'host_listings_count', 'host_total_listings_count',\n",
    "    'host_verifications', 'host_has_profile_pic', 'street', 'neighbourhood',\n",
    "    'city', 'zipcode', 'market', 'smart_location', 'latitude', 'longitude',\n",
    "    'is_location_exact', 'cleaning_fee', 'guests_included', 'extra_people',\n",
    "    'minimum_nights', 'maximum_nights', 'calendar_updated', 'availability_30',\n",
    "    'bed_type', 'availability_60', 'availability_90', 'availability_365',\n",
    "    'first_review', 'last_review', 'review_scores_rating', \n",
    "    'review_scores_accuracy', 'review_scores_cleanliness', \n",
    "    'review_scores_checkin', 'review_scores_communication',\n",
    "    'review_scores_location', 'require_guest_profile_picture', \n",
    "    'require_guest_phone_verification'\n",
    "]\n",
    "\n",
    "listings = listings.drop(to_drop, axis=1)"
   ]
  },
  {
   "cell_type": "markdown",
   "metadata": {},
   "source": [
    "We are now going to convert text features to numerical ones.\n",
    "\n",
    "- Summary and description features will be converted to a character count to see if a longer description helps.\n",
    "- We will create a boolean local feature based on whether the host is from Boston or not\n",
    "- `host_since` will be converted to a timedelta between an individual host's sign up date and the most recent host sign up\n",
    "- `host_response_time` will be converted to a dummy variable\n",
    "- % and $ signs will be stripped\n",
    "- `amenities` column will be converted to a count of amenities listed\n",
    "- Convert boolean t/f features to 1 or 0"
   ]
  },
  {
   "cell_type": "code",
   "execution_count": 6,
   "metadata": {},
   "outputs": [],
   "source": [
    "# Define description features\n",
    "description_features = ['summary', 'space', 'description', 'neighborhood_overview', 'transit', 'access', 'interaction', 'house_rules', 'host_about']\n",
    "\n",
    "# Convert null values to empty strings\n",
    "listings[description_features] = listings[description_features].apply(lambda col: col.fillna(''), axis=1)\n",
    "\n",
    "# Convert description features to character counts\n",
    "for column in listings[description_features]:\n",
    "    listings[column] = listings[column].apply(lambda x: len(x))\n",
    "\n",
    "# Convert host_since to datetime and create host_since_days timedelta feature\n",
    "listings.host_since = pd.to_datetime(listings.host_since, yearfirst=True)\n",
    "listings['host_since_days'] = (listings.host_since - listings.host_since.min()).dt.days\n",
    "\n",
    "# Create is_local feature based on host_location\n",
    "local_destination = 'Boston, Massachusetts, United States'\n",
    "listings['is_local'] = listings.host_location.apply(\n",
    "    lambda location: 1 if location==local_destination else 0\n",
    ")\n",
    "\n",
    "# Drop converted features\n",
    "listings = listings.drop(['host_since', 'host_location'], axis=1)\n",
    "\n",
    "# Map host_response_time values to numerical values\n",
    "response_map = {\n",
    "    np.nan: 0,\n",
    "    'a few days or more': 1,\n",
    "    'within a day': 2,\n",
    "    'within a few hours': 3,\n",
    "    'within an hour': 4\n",
    "}\n",
    "listings.host_response_time = listings.host_response_time.replace(response_map)\n",
    "\n",
    "# Remove ['$', ',', '%'] and convert to float\n",
    "str_to_float_columns = ['host_response_rate', 'host_acceptance_rate', 'price']\n",
    "for column in str_to_float_columns:\n",
    "#     listings[column] = listings[column].str.replace('$', '').str.replace('%', '').str.replace(',', '').astype(float)\n",
    "    listings[column] = listings[column].apply(lambda value: re.sub(r'\\$|,|%', '', str(value))).astype(float)\n",
    "    \n",
    "# Convert boolean t/f columns to 1/0 columns\n",
    "boolean_columns = ['host_is_superhost', 'instant_bookable']\n",
    "for column in boolean_columns:\n",
    "    listings[column] = listings[column].apply(lambda val: True if val=='t' else False)\n",
    "    \n",
    "# Convert amenities to amenities_count\n",
    "listings['amenities_count'] = listings.amenities.str.count(',')+1\n",
    "listings = listings.drop('amenities', axis=1)"
   ]
  },
  {
   "cell_type": "markdown",
   "metadata": {},
   "source": [
    "### Dropping listings without reviews\n",
    "\n",
    "We want to understand what price to put for our new listing, we want to model this off \"successful\" listings. Therefore we're going to remove listings without a review. This also has the handy side effect of removing some listings that might define as outliers. Outliers can greatly impact a model's ability to predict pricing and account for variance but should not be removed for this reason alone. Data points may look like outliers but in our case, unless if they're an obvious mistake (e.g. a typo or other), then they are valid."
   ]
  },
  {
   "cell_type": "code",
   "execution_count": 7,
   "metadata": {},
   "outputs": [
    {
     "name": "stdout",
     "output_type": "stream",
     "text": [
      "756 rows or 21.09% of rows dropped as having no reviews\n"
     ]
    }
   ],
   "source": [
    "num_without_reviews = len(listings[listings.number_of_reviews==0])\n",
    "percent_gone = num_without_reviews/len(listings)\n",
    "\n",
    "print(f'{num_without_reviews} rows or {percent_gone:.2%} of rows dropped as having no reviews')\n",
    "\n",
    "listings = listings[listings.number_of_reviews!=0]"
   ]
  },
  {
   "cell_type": "markdown",
   "metadata": {},
   "source": [
    "## Calendar data clean up\n",
    "\n",
    "First off, with `price` as our target variable, we will drop any rows where the price is null. A quick glance at the data shows that this value is null when the listing is not availble for a given date.\n",
    "\n",
    "Therefore we drop rows where price is null and drop the `available` column as this then contains only one value."
   ]
  },
  {
   "cell_type": "code",
   "execution_count": 8,
   "metadata": {},
   "outputs": [
    {
     "data": {
      "text/html": [
       "<div>\n",
       "<style scoped>\n",
       "    .dataframe tbody tr th:only-of-type {\n",
       "        vertical-align: middle;\n",
       "    }\n",
       "\n",
       "    .dataframe tbody tr th {\n",
       "        vertical-align: top;\n",
       "    }\n",
       "\n",
       "    .dataframe thead th {\n",
       "        text-align: right;\n",
       "    }\n",
       "</style>\n",
       "<table border=\"1\" class=\"dataframe\">\n",
       "  <thead>\n",
       "    <tr style=\"text-align: right;\">\n",
       "      <th></th>\n",
       "      <th>listing_id</th>\n",
       "      <th>date</th>\n",
       "      <th>available</th>\n",
       "      <th>price</th>\n",
       "    </tr>\n",
       "  </thead>\n",
       "  <tbody>\n",
       "    <tr>\n",
       "      <td>1263894</td>\n",
       "      <td>12409042</td>\n",
       "      <td>2016-10-01</td>\n",
       "      <td>f</td>\n",
       "      <td>NaN</td>\n",
       "    </tr>\n",
       "    <tr>\n",
       "      <td>515497</td>\n",
       "      <td>14442491</td>\n",
       "      <td>2017-05-09</td>\n",
       "      <td>f</td>\n",
       "      <td>NaN</td>\n",
       "    </tr>\n",
       "  </tbody>\n",
       "</table>\n",
       "</div>"
      ],
      "text/plain": [
       "         listing_id        date available price\n",
       "1263894    12409042  2016-10-01         f   NaN\n",
       "515497     14442491  2017-05-09         f   NaN"
      ]
     },
     "execution_count": 8,
     "metadata": {},
     "output_type": "execute_result"
    }
   ],
   "source": [
    "calendar.sample(2)"
   ]
  },
  {
   "cell_type": "code",
   "execution_count": 9,
   "metadata": {},
   "outputs": [
    {
     "data": {
      "text/html": [
       "<div>\n",
       "<style scoped>\n",
       "    .dataframe tbody tr th:only-of-type {\n",
       "        vertical-align: middle;\n",
       "    }\n",
       "\n",
       "    .dataframe tbody tr th {\n",
       "        vertical-align: top;\n",
       "    }\n",
       "\n",
       "    .dataframe thead th {\n",
       "        text-align: right;\n",
       "    }\n",
       "</style>\n",
       "<table border=\"1\" class=\"dataframe\">\n",
       "  <thead>\n",
       "    <tr style=\"text-align: right;\">\n",
       "      <th></th>\n",
       "      <th>listing_id</th>\n",
       "      <th>price</th>\n",
       "      <th>month</th>\n",
       "    </tr>\n",
       "  </thead>\n",
       "  <tbody>\n",
       "    <tr>\n",
       "      <td>1093777</td>\n",
       "      <td>3311675</td>\n",
       "      <td>52.0</td>\n",
       "      <td>Dec</td>\n",
       "    </tr>\n",
       "    <tr>\n",
       "      <td>926168</td>\n",
       "      <td>1110423</td>\n",
       "      <td>200.0</td>\n",
       "      <td>Dec</td>\n",
       "    </tr>\n",
       "  </tbody>\n",
       "</table>\n",
       "</div>"
      ],
      "text/plain": [
       "         listing_id  price month\n",
       "1093777     3311675   52.0   Dec\n",
       "926168      1110423  200.0   Dec"
      ]
     },
     "execution_count": 9,
     "metadata": {},
     "output_type": "execute_result"
    }
   ],
   "source": [
    "# Drop any rows without the predictor value\n",
    "calendar.dropna(subset=['price'], inplace=True)\n",
    "\n",
    "# Convert price into a float\n",
    "calendar.price = calendar.price.apply(\n",
    "    lambda value: re.sub(r'\\$|,', '', value)\n",
    ").astype(float)\n",
    "\n",
    "# Extract month from date string and rewrite values\n",
    "calendar['month'] = calendar.date.apply(lambda value: value.split('-')[1])\n",
    "calendar['month'] = calendar['month'].replace({\n",
    "    '01': 'Jan',\n",
    "    '02': 'Feb',\n",
    "    '03': 'Mar',\n",
    "    '04': 'Apr',\n",
    "    '05': 'May',\n",
    "    '06': 'Jun',\n",
    "    '07': 'Jul',\n",
    "    '08': 'Aug',\n",
    "    '09': 'Sep',\n",
    "    '10': 'Oct',\n",
    "    '11': 'Nov',\n",
    "    '12': 'Dec'\n",
    "})\n",
    "\n",
    "# Drop available and date columns\n",
    "calendar = calendar.drop(['available', 'date'], axis=1)\n",
    "\n",
    "calendar.sample(2)"
   ]
  },
  {
   "cell_type": "markdown",
   "metadata": {},
   "source": [
    "## Merge datasets\n",
    "\n",
    "With both datasets cleaned up and transformed where needed, we can now merge the two. This will give us two `price` columns so we'll keep only the time-sensitive one coming from the calendar dataset."
   ]
  },
  {
   "cell_type": "code",
   "execution_count": 10,
   "metadata": {},
   "outputs": [
    {
     "data": {
      "text/html": [
       "<div>\n",
       "<style scoped>\n",
       "    .dataframe tbody tr th:only-of-type {\n",
       "        vertical-align: middle;\n",
       "    }\n",
       "\n",
       "    .dataframe tbody tr th {\n",
       "        vertical-align: top;\n",
       "    }\n",
       "\n",
       "    .dataframe thead th {\n",
       "        text-align: right;\n",
       "    }\n",
       "</style>\n",
       "<table border=\"1\" class=\"dataframe\">\n",
       "  <thead>\n",
       "    <tr style=\"text-align: right;\">\n",
       "      <th></th>\n",
       "      <th>id</th>\n",
       "      <th>summary</th>\n",
       "      <th>space</th>\n",
       "      <th>description</th>\n",
       "      <th>neighborhood_overview</th>\n",
       "      <th>transit</th>\n",
       "      <th>access</th>\n",
       "      <th>interaction</th>\n",
       "      <th>house_rules</th>\n",
       "      <th>host_about</th>\n",
       "      <th>host_response_time</th>\n",
       "      <th>host_response_rate</th>\n",
       "      <th>host_acceptance_rate</th>\n",
       "      <th>host_is_superhost</th>\n",
       "      <th>neighbourhood_cleansed</th>\n",
       "      <th>property_type</th>\n",
       "      <th>room_type</th>\n",
       "      <th>accommodates</th>\n",
       "      <th>bathrooms</th>\n",
       "      <th>bedrooms</th>\n",
       "      <th>beds</th>\n",
       "      <th>number_of_reviews</th>\n",
       "      <th>review_scores_value</th>\n",
       "      <th>instant_bookable</th>\n",
       "      <th>cancellation_policy</th>\n",
       "      <th>calculated_host_listings_count</th>\n",
       "      <th>reviews_per_month</th>\n",
       "      <th>host_since_days</th>\n",
       "      <th>is_local</th>\n",
       "      <th>amenities_count</th>\n",
       "      <th>price</th>\n",
       "      <th>month</th>\n",
       "    </tr>\n",
       "  </thead>\n",
       "  <tbody>\n",
       "    <tr>\n",
       "      <td>298596</td>\n",
       "      <td>8704161</td>\n",
       "      <td>247</td>\n",
       "      <td>266</td>\n",
       "      <td>766</td>\n",
       "      <td>82</td>\n",
       "      <td>126</td>\n",
       "      <td>7</td>\n",
       "      <td>33</td>\n",
       "      <td>129</td>\n",
       "      <td>133</td>\n",
       "      <td>4</td>\n",
       "      <td>100.0</td>\n",
       "      <td>100.0</td>\n",
       "      <td>True</td>\n",
       "      <td>Beacon Hill</td>\n",
       "      <td>Apartment</td>\n",
       "      <td>Entire home/apt</td>\n",
       "      <td>4</td>\n",
       "      <td>2.0</td>\n",
       "      <td>2.0</td>\n",
       "      <td>2.0</td>\n",
       "      <td>24</td>\n",
       "      <td>10.0</td>\n",
       "      <td>False</td>\n",
       "      <td>strict</td>\n",
       "      <td>1</td>\n",
       "      <td>2.16</td>\n",
       "      <td>2517</td>\n",
       "      <td>0</td>\n",
       "      <td>21</td>\n",
       "      <td>500.0</td>\n",
       "      <td>Apr</td>\n",
       "    </tr>\n",
       "    <tr>\n",
       "      <td>85974</td>\n",
       "      <td>12302222</td>\n",
       "      <td>250</td>\n",
       "      <td>1000</td>\n",
       "      <td>1000</td>\n",
       "      <td>717</td>\n",
       "      <td>1000</td>\n",
       "      <td>0</td>\n",
       "      <td>274</td>\n",
       "      <td>0</td>\n",
       "      <td>0</td>\n",
       "      <td>3</td>\n",
       "      <td>98.0</td>\n",
       "      <td>55.0</td>\n",
       "      <td>False</td>\n",
       "      <td>Chinatown</td>\n",
       "      <td>Apartment</td>\n",
       "      <td>Entire home/apt</td>\n",
       "      <td>5</td>\n",
       "      <td>2.0</td>\n",
       "      <td>2.0</td>\n",
       "      <td>2.0</td>\n",
       "      <td>1</td>\n",
       "      <td>8.0</td>\n",
       "      <td>False</td>\n",
       "      <td>strict</td>\n",
       "      <td>136</td>\n",
       "      <td>0.77</td>\n",
       "      <td>2330</td>\n",
       "      <td>0</td>\n",
       "      <td>16</td>\n",
       "      <td>388.0</td>\n",
       "      <td>Dec</td>\n",
       "    </tr>\n",
       "    <tr>\n",
       "      <td>339979</td>\n",
       "      <td>6516588</td>\n",
       "      <td>280</td>\n",
       "      <td>291</td>\n",
       "      <td>1000</td>\n",
       "      <td>0</td>\n",
       "      <td>240</td>\n",
       "      <td>224</td>\n",
       "      <td>0</td>\n",
       "      <td>156</td>\n",
       "      <td>0</td>\n",
       "      <td>2</td>\n",
       "      <td>50.0</td>\n",
       "      <td>50.0</td>\n",
       "      <td>False</td>\n",
       "      <td>Fenway</td>\n",
       "      <td>Apartment</td>\n",
       "      <td>Entire home/apt</td>\n",
       "      <td>3</td>\n",
       "      <td>1.0</td>\n",
       "      <td>1.0</td>\n",
       "      <td>1.0</td>\n",
       "      <td>9</td>\n",
       "      <td>9.0</td>\n",
       "      <td>False</td>\n",
       "      <td>flexible</td>\n",
       "      <td>1</td>\n",
       "      <td>0.58</td>\n",
       "      <td>2385</td>\n",
       "      <td>1</td>\n",
       "      <td>6</td>\n",
       "      <td>175.0</td>\n",
       "      <td>Apr</td>\n",
       "    </tr>\n",
       "  </tbody>\n",
       "</table>\n",
       "</div>"
      ],
      "text/plain": [
       "              id  summary  space  description  neighborhood_overview  transit  \\\n",
       "298596   8704161      247    266          766                     82      126   \n",
       "85974   12302222      250   1000         1000                    717     1000   \n",
       "339979   6516588      280    291         1000                      0      240   \n",
       "\n",
       "        access  interaction  house_rules  host_about  host_response_time  \\\n",
       "298596       7           33          129         133                   4   \n",
       "85974        0          274            0           0                   3   \n",
       "339979     224            0          156           0                   2   \n",
       "\n",
       "        host_response_rate  host_acceptance_rate  host_is_superhost  \\\n",
       "298596               100.0                 100.0               True   \n",
       "85974                 98.0                  55.0              False   \n",
       "339979                50.0                  50.0              False   \n",
       "\n",
       "       neighbourhood_cleansed property_type        room_type  accommodates  \\\n",
       "298596            Beacon Hill     Apartment  Entire home/apt             4   \n",
       "85974               Chinatown     Apartment  Entire home/apt             5   \n",
       "339979                 Fenway     Apartment  Entire home/apt             3   \n",
       "\n",
       "        bathrooms  bedrooms  beds  number_of_reviews  review_scores_value  \\\n",
       "298596        2.0       2.0   2.0                 24                 10.0   \n",
       "85974         2.0       2.0   2.0                  1                  8.0   \n",
       "339979        1.0       1.0   1.0                  9                  9.0   \n",
       "\n",
       "        instant_bookable cancellation_policy  calculated_host_listings_count  \\\n",
       "298596             False              strict                               1   \n",
       "85974              False              strict                             136   \n",
       "339979             False            flexible                               1   \n",
       "\n",
       "        reviews_per_month  host_since_days  is_local  amenities_count  price  \\\n",
       "298596               2.16             2517         0               21  500.0   \n",
       "85974                0.77             2330         0               16  388.0   \n",
       "339979               0.58             2385         1                6  175.0   \n",
       "\n",
       "       month  \n",
       "298596   Apr  \n",
       "85974    Dec  \n",
       "339979   Apr  "
      ]
     },
     "execution_count": 10,
     "metadata": {},
     "output_type": "execute_result"
    }
   ],
   "source": [
    "df = pd.merge(\n",
    "    listings, calendar, how='left',\n",
    "    left_on='id', right_on='listing_id',\n",
    ")\n",
    "\n",
    "df = df.drop(['price_x', 'listing_id' ], axis=1)\n",
    "df = df.rename({'price_y': 'price'}, axis=1)\n",
    "\n",
    "# Drop any remaining rows without a price value\n",
    "df = df.dropna(subset=['price'])\n",
    "\n",
    "df.sample(3)"
   ]
  },
  {
   "cell_type": "markdown",
   "metadata": {},
   "source": [
    "## Exploring the data for trends\n",
    "\n",
    "With some basic cleaning and feature engineering done, let's explore our dataset."
   ]
  },
  {
   "cell_type": "code",
   "execution_count": 11,
   "metadata": {},
   "outputs": [
    {
     "data": {
      "image/png": "[encoded data removed]",
      "text/plain": [
       "<Figure size 1200x800 with 4 Axes>"
      ]
     },
     "metadata": {},
     "output_type": "display_data"
    }
   ],
   "source": [
    "fig, axs = plt.subplots(2, 2, figsize=(15, 10), dpi=80)\n",
    "\n",
    "# Neighbourhoods\n",
    "neighbourhoods = listings.groupby('neighbourhood_cleansed').agg(\n",
    "    {\n",
    "        'price': np.mean\n",
    "    }\n",
    ").reset_index()\n",
    "sns.barplot(\n",
    "    x='price', y='neighbourhood_cleansed',\n",
    "    data=neighbourhoods.sort_values('price'),\n",
    "    orient='h',\n",
    "    palette='Blues',\n",
    "    ax=axs[0, 0]\n",
    ")\n",
    "axs[0, 0].set_title('Neighbourhood')\n",
    "axs[0, 0].set_xlabel('Mean Price ($)')\n",
    "axs[0, 0].set_ylabel('')\n",
    "\n",
    "# Room type\n",
    "sns.histplot(x='price', hue='room_type',\n",
    "             data=listings, ax=axs[0, 1])\n",
    "axs[0, 1].set_xlim(0, 600)\n",
    "axs[0, 1].set_title('Room Type')\n",
    "axs[0, 1].set_xlabel('Price ($)')\n",
    "\n",
    "# Cancellation Policy\n",
    "sns.boxplot(x='price', y='cancellation_policy', fliersize=1, linewidth=0.75,\n",
    "            data=listings, palette='Blues', ax=axs[1, 0],\n",
    "            order=['flexible', 'moderate', 'strict', 'super_strict_30'])\n",
    "axs[1, 0].set_xlim(0, 600)\n",
    "axs[1, 0].set_title('Cancellation Policy')\n",
    "axs[1, 0].set_xlabel('Price ($)')\n",
    "axs[1, 0].set_ylabel('')\n",
    "\n",
    "# Property type\n",
    "sns.boxplot(x='price', y='property_type', fliersize=1, linewidth=0.75,\n",
    "            data=listings, palette='Blues', ax=axs[1, 1])\n",
    "axs[1, 1].set_xlim(0, 600)\n",
    "axs[1, 1].set_title('Property Type')\n",
    "axs[1, 1].set_xlabel('Price ($)')\n",
    "axs[1, 1].set_ylabel('')\n",
    "\n",
    "plt.tight_layout()\n",
    "plt.show();"
   ]
  },
  {
   "cell_type": "code",
   "execution_count": 12,
   "metadata": {},
   "outputs": [
    {
     "data": {
      "text/html": [
       "<div>\n",
       "<style scoped>\n",
       "    .dataframe tbody tr th:only-of-type {\n",
       "        vertical-align: middle;\n",
       "    }\n",
       "\n",
       "    .dataframe tbody tr th {\n",
       "        vertical-align: top;\n",
       "    }\n",
       "\n",
       "    .dataframe thead th {\n",
       "        text-align: right;\n",
       "    }\n",
       "</style>\n",
       "<table border=\"1\" class=\"dataframe\">\n",
       "  <thead>\n",
       "    <tr style=\"text-align: right;\">\n",
       "      <th></th>\n",
       "      <th>id</th>\n",
       "      <th>summary</th>\n",
       "      <th>space</th>\n",
       "      <th>description</th>\n",
       "      <th>neighborhood_overview</th>\n",
       "      <th>transit</th>\n",
       "      <th>access</th>\n",
       "      <th>interaction</th>\n",
       "      <th>house_rules</th>\n",
       "      <th>host_about</th>\n",
       "      <th>host_response_time</th>\n",
       "      <th>host_response_rate</th>\n",
       "      <th>host_acceptance_rate</th>\n",
       "      <th>host_is_superhost</th>\n",
       "      <th>neighbourhood_cleansed</th>\n",
       "      <th>property_type</th>\n",
       "      <th>room_type</th>\n",
       "      <th>accommodates</th>\n",
       "      <th>bathrooms</th>\n",
       "      <th>bedrooms</th>\n",
       "      <th>beds</th>\n",
       "      <th>number_of_reviews</th>\n",
       "      <th>review_scores_value</th>\n",
       "      <th>instant_bookable</th>\n",
       "      <th>cancellation_policy</th>\n",
       "      <th>calculated_host_listings_count</th>\n",
       "      <th>reviews_per_month</th>\n",
       "      <th>host_since_days</th>\n",
       "      <th>is_local</th>\n",
       "      <th>amenities_count</th>\n",
       "      <th>price</th>\n",
       "      <th>month</th>\n",
       "    </tr>\n",
       "  </thead>\n",
       "  <tbody>\n",
       "    <tr>\n",
       "      <td>0</td>\n",
       "      <td>3075044</td>\n",
       "      <td>247</td>\n",
       "      <td>73</td>\n",
       "      <td>1000</td>\n",
       "      <td>355</td>\n",
       "      <td>538</td>\n",
       "      <td>132</td>\n",
       "      <td>172</td>\n",
       "      <td>403</td>\n",
       "      <td>77</td>\n",
       "      <td>4</td>\n",
       "      <td>100.0</td>\n",
       "      <td>100.0</td>\n",
       "      <td>False</td>\n",
       "      <td>Roslindale</td>\n",
       "      <td>Apartment</td>\n",
       "      <td>Private room</td>\n",
       "      <td>2</td>\n",
       "      <td>1.0</td>\n",
       "      <td>1.0</td>\n",
       "      <td>1.0</td>\n",
       "      <td>36</td>\n",
       "      <td>9.0</td>\n",
       "      <td>True</td>\n",
       "      <td>moderate</td>\n",
       "      <td>1</td>\n",
       "      <td>1.3</td>\n",
       "      <td>1304</td>\n",
       "      <td>1</td>\n",
       "      <td>21</td>\n",
       "      <td>65.0</td>\n",
       "      <td>Aug</td>\n",
       "    </tr>\n",
       "    <tr>\n",
       "      <td>1</td>\n",
       "      <td>3075044</td>\n",
       "      <td>247</td>\n",
       "      <td>73</td>\n",
       "      <td>1000</td>\n",
       "      <td>355</td>\n",
       "      <td>538</td>\n",
       "      <td>132</td>\n",
       "      <td>172</td>\n",
       "      <td>403</td>\n",
       "      <td>77</td>\n",
       "      <td>4</td>\n",
       "      <td>100.0</td>\n",
       "      <td>100.0</td>\n",
       "      <td>False</td>\n",
       "      <td>Roslindale</td>\n",
       "      <td>Apartment</td>\n",
       "      <td>Private room</td>\n",
       "      <td>2</td>\n",
       "      <td>1.0</td>\n",
       "      <td>1.0</td>\n",
       "      <td>1.0</td>\n",
       "      <td>36</td>\n",
       "      <td>9.0</td>\n",
       "      <td>True</td>\n",
       "      <td>moderate</td>\n",
       "      <td>1</td>\n",
       "      <td>1.3</td>\n",
       "      <td>1304</td>\n",
       "      <td>1</td>\n",
       "      <td>21</td>\n",
       "      <td>65.0</td>\n",
       "      <td>Aug</td>\n",
       "    </tr>\n",
       "    <tr>\n",
       "      <td>2</td>\n",
       "      <td>3075044</td>\n",
       "      <td>247</td>\n",
       "      <td>73</td>\n",
       "      <td>1000</td>\n",
       "      <td>355</td>\n",
       "      <td>538</td>\n",
       "      <td>132</td>\n",
       "      <td>172</td>\n",
       "      <td>403</td>\n",
       "      <td>77</td>\n",
       "      <td>4</td>\n",
       "      <td>100.0</td>\n",
       "      <td>100.0</td>\n",
       "      <td>False</td>\n",
       "      <td>Roslindale</td>\n",
       "      <td>Apartment</td>\n",
       "      <td>Private room</td>\n",
       "      <td>2</td>\n",
       "      <td>1.0</td>\n",
       "      <td>1.0</td>\n",
       "      <td>1.0</td>\n",
       "      <td>36</td>\n",
       "      <td>9.0</td>\n",
       "      <td>True</td>\n",
       "      <td>moderate</td>\n",
       "      <td>1</td>\n",
       "      <td>1.3</td>\n",
       "      <td>1304</td>\n",
       "      <td>1</td>\n",
       "      <td>21</td>\n",
       "      <td>65.0</td>\n",
       "      <td>Aug</td>\n",
       "    </tr>\n",
       "    <tr>\n",
       "      <td>3</td>\n",
       "      <td>3075044</td>\n",
       "      <td>247</td>\n",
       "      <td>73</td>\n",
       "      <td>1000</td>\n",
       "      <td>355</td>\n",
       "      <td>538</td>\n",
       "      <td>132</td>\n",
       "      <td>172</td>\n",
       "      <td>403</td>\n",
       "      <td>77</td>\n",
       "      <td>4</td>\n",
       "      <td>100.0</td>\n",
       "      <td>100.0</td>\n",
       "      <td>False</td>\n",
       "      <td>Roslindale</td>\n",
       "      <td>Apartment</td>\n",
       "      <td>Private room</td>\n",
       "      <td>2</td>\n",
       "      <td>1.0</td>\n",
       "      <td>1.0</td>\n",
       "      <td>1.0</td>\n",
       "      <td>36</td>\n",
       "      <td>9.0</td>\n",
       "      <td>True</td>\n",
       "      <td>moderate</td>\n",
       "      <td>1</td>\n",
       "      <td>1.3</td>\n",
       "      <td>1304</td>\n",
       "      <td>1</td>\n",
       "      <td>21</td>\n",
       "      <td>75.0</td>\n",
       "      <td>Aug</td>\n",
       "    </tr>\n",
       "    <tr>\n",
       "      <td>4</td>\n",
       "      <td>3075044</td>\n",
       "      <td>247</td>\n",
       "      <td>73</td>\n",
       "      <td>1000</td>\n",
       "      <td>355</td>\n",
       "      <td>538</td>\n",
       "      <td>132</td>\n",
       "      <td>172</td>\n",
       "      <td>403</td>\n",
       "      <td>77</td>\n",
       "      <td>4</td>\n",
       "      <td>100.0</td>\n",
       "      <td>100.0</td>\n",
       "      <td>False</td>\n",
       "      <td>Roslindale</td>\n",
       "      <td>Apartment</td>\n",
       "      <td>Private room</td>\n",
       "      <td>2</td>\n",
       "      <td>1.0</td>\n",
       "      <td>1.0</td>\n",
       "      <td>1.0</td>\n",
       "      <td>36</td>\n",
       "      <td>9.0</td>\n",
       "      <td>True</td>\n",
       "      <td>moderate</td>\n",
       "      <td>1</td>\n",
       "      <td>1.3</td>\n",
       "      <td>1304</td>\n",
       "      <td>1</td>\n",
       "      <td>21</td>\n",
       "      <td>75.0</td>\n",
       "      <td>Aug</td>\n",
       "    </tr>\n",
       "    <tr>\n",
       "      <td>...</td>\n",
       "      <td>...</td>\n",
       "      <td>...</td>\n",
       "      <td>...</td>\n",
       "      <td>...</td>\n",
       "      <td>...</td>\n",
       "      <td>...</td>\n",
       "      <td>...</td>\n",
       "      <td>...</td>\n",
       "      <td>...</td>\n",
       "      <td>...</td>\n",
       "      <td>...</td>\n",
       "      <td>...</td>\n",
       "      <td>...</td>\n",
       "      <td>...</td>\n",
       "      <td>...</td>\n",
       "      <td>...</td>\n",
       "      <td>...</td>\n",
       "      <td>...</td>\n",
       "      <td>...</td>\n",
       "      <td>...</td>\n",
       "      <td>...</td>\n",
       "      <td>...</td>\n",
       "      <td>...</td>\n",
       "      <td>...</td>\n",
       "      <td>...</td>\n",
       "      <td>...</td>\n",
       "      <td>...</td>\n",
       "      <td>...</td>\n",
       "      <td>...</td>\n",
       "      <td>...</td>\n",
       "      <td>...</td>\n",
       "      <td>...</td>\n",
       "    </tr>\n",
       "    <tr>\n",
       "      <td>527592</td>\n",
       "      <td>14603878</td>\n",
       "      <td>319</td>\n",
       "      <td>0</td>\n",
       "      <td>319</td>\n",
       "      <td>0</td>\n",
       "      <td>0</td>\n",
       "      <td>0</td>\n",
       "      <td>0</td>\n",
       "      <td>0</td>\n",
       "      <td>405</td>\n",
       "      <td>4</td>\n",
       "      <td>100.0</td>\n",
       "      <td>96.0</td>\n",
       "      <td>False</td>\n",
       "      <td>Charlestown</td>\n",
       "      <td>Apartment</td>\n",
       "      <td>Private room</td>\n",
       "      <td>2</td>\n",
       "      <td>1.0</td>\n",
       "      <td>1.0</td>\n",
       "      <td>1.0</td>\n",
       "      <td>2</td>\n",
       "      <td>7.0</td>\n",
       "      <td>False</td>\n",
       "      <td>strict</td>\n",
       "      <td>1</td>\n",
       "      <td>2.0</td>\n",
       "      <td>2754</td>\n",
       "      <td>0</td>\n",
       "      <td>8</td>\n",
       "      <td>59.0</td>\n",
       "      <td>Sep</td>\n",
       "    </tr>\n",
       "    <tr>\n",
       "      <td>527593</td>\n",
       "      <td>14603878</td>\n",
       "      <td>319</td>\n",
       "      <td>0</td>\n",
       "      <td>319</td>\n",
       "      <td>0</td>\n",
       "      <td>0</td>\n",
       "      <td>0</td>\n",
       "      <td>0</td>\n",
       "      <td>0</td>\n",
       "      <td>405</td>\n",
       "      <td>4</td>\n",
       "      <td>100.0</td>\n",
       "      <td>96.0</td>\n",
       "      <td>False</td>\n",
       "      <td>Charlestown</td>\n",
       "      <td>Apartment</td>\n",
       "      <td>Private room</td>\n",
       "      <td>2</td>\n",
       "      <td>1.0</td>\n",
       "      <td>1.0</td>\n",
       "      <td>1.0</td>\n",
       "      <td>2</td>\n",
       "      <td>7.0</td>\n",
       "      <td>False</td>\n",
       "      <td>strict</td>\n",
       "      <td>1</td>\n",
       "      <td>2.0</td>\n",
       "      <td>2754</td>\n",
       "      <td>0</td>\n",
       "      <td>8</td>\n",
       "      <td>59.0</td>\n",
       "      <td>Sep</td>\n",
       "    </tr>\n",
       "    <tr>\n",
       "      <td>527594</td>\n",
       "      <td>14603878</td>\n",
       "      <td>319</td>\n",
       "      <td>0</td>\n",
       "      <td>319</td>\n",
       "      <td>0</td>\n",
       "      <td>0</td>\n",
       "      <td>0</td>\n",
       "      <td>0</td>\n",
       "      <td>0</td>\n",
       "      <td>405</td>\n",
       "      <td>4</td>\n",
       "      <td>100.0</td>\n",
       "      <td>96.0</td>\n",
       "      <td>False</td>\n",
       "      <td>Charlestown</td>\n",
       "      <td>Apartment</td>\n",
       "      <td>Private room</td>\n",
       "      <td>2</td>\n",
       "      <td>1.0</td>\n",
       "      <td>1.0</td>\n",
       "      <td>1.0</td>\n",
       "      <td>2</td>\n",
       "      <td>7.0</td>\n",
       "      <td>False</td>\n",
       "      <td>strict</td>\n",
       "      <td>1</td>\n",
       "      <td>2.0</td>\n",
       "      <td>2754</td>\n",
       "      <td>0</td>\n",
       "      <td>8</td>\n",
       "      <td>59.0</td>\n",
       "      <td>Sep</td>\n",
       "    </tr>\n",
       "    <tr>\n",
       "      <td>527595</td>\n",
       "      <td>14603878</td>\n",
       "      <td>319</td>\n",
       "      <td>0</td>\n",
       "      <td>319</td>\n",
       "      <td>0</td>\n",
       "      <td>0</td>\n",
       "      <td>0</td>\n",
       "      <td>0</td>\n",
       "      <td>0</td>\n",
       "      <td>405</td>\n",
       "      <td>4</td>\n",
       "      <td>100.0</td>\n",
       "      <td>96.0</td>\n",
       "      <td>False</td>\n",
       "      <td>Charlestown</td>\n",
       "      <td>Apartment</td>\n",
       "      <td>Private room</td>\n",
       "      <td>2</td>\n",
       "      <td>1.0</td>\n",
       "      <td>1.0</td>\n",
       "      <td>1.0</td>\n",
       "      <td>2</td>\n",
       "      <td>7.0</td>\n",
       "      <td>False</td>\n",
       "      <td>strict</td>\n",
       "      <td>1</td>\n",
       "      <td>2.0</td>\n",
       "      <td>2754</td>\n",
       "      <td>0</td>\n",
       "      <td>8</td>\n",
       "      <td>59.0</td>\n",
       "      <td>Sep</td>\n",
       "    </tr>\n",
       "    <tr>\n",
       "      <td>527596</td>\n",
       "      <td>14603878</td>\n",
       "      <td>319</td>\n",
       "      <td>0</td>\n",
       "      <td>319</td>\n",
       "      <td>0</td>\n",
       "      <td>0</td>\n",
       "      <td>0</td>\n",
       "      <td>0</td>\n",
       "      <td>0</td>\n",
       "      <td>405</td>\n",
       "      <td>4</td>\n",
       "      <td>100.0</td>\n",
       "      <td>96.0</td>\n",
       "      <td>False</td>\n",
       "      <td>Charlestown</td>\n",
       "      <td>Apartment</td>\n",
       "      <td>Private room</td>\n",
       "      <td>2</td>\n",
       "      <td>1.0</td>\n",
       "      <td>1.0</td>\n",
       "      <td>1.0</td>\n",
       "      <td>2</td>\n",
       "      <td>7.0</td>\n",
       "      <td>False</td>\n",
       "      <td>strict</td>\n",
       "      <td>1</td>\n",
       "      <td>2.0</td>\n",
       "      <td>2754</td>\n",
       "      <td>0</td>\n",
       "      <td>8</td>\n",
       "      <td>59.0</td>\n",
       "      <td>Sep</td>\n",
       "    </tr>\n",
       "  </tbody>\n",
       "</table>\n",
       "<p>527156 rows × 32 columns</p>\n",
       "</div>"
      ],
      "text/plain": [
       "              id  summary  space  description  neighborhood_overview  transit  \\\n",
       "0        3075044      247     73         1000                    355      538   \n",
       "1        3075044      247     73         1000                    355      538   \n",
       "2        3075044      247     73         1000                    355      538   \n",
       "3        3075044      247     73         1000                    355      538   \n",
       "4        3075044      247     73         1000                    355      538   \n",
       "...          ...      ...    ...          ...                    ...      ...   \n",
       "527592  14603878      319      0          319                      0        0   \n",
       "527593  14603878      319      0          319                      0        0   \n",
       "527594  14603878      319      0          319                      0        0   \n",
       "527595  14603878      319      0          319                      0        0   \n",
       "527596  14603878      319      0          319                      0        0   \n",
       "\n",
       "        access  interaction  house_rules  host_about  host_response_time  \\\n",
       "0          132          172          403          77                   4   \n",
       "1          132          172          403          77                   4   \n",
       "2          132          172          403          77                   4   \n",
       "3          132          172          403          77                   4   \n",
       "4          132          172          403          77                   4   \n",
       "...        ...          ...          ...         ...                 ...   \n",
       "527592       0            0            0         405                   4   \n",
       "527593       0            0            0         405                   4   \n",
       "527594       0            0            0         405                   4   \n",
       "527595       0            0            0         405                   4   \n",
       "527596       0            0            0         405                   4   \n",
       "\n",
       "        host_response_rate  host_acceptance_rate  host_is_superhost  \\\n",
       "0                    100.0                 100.0              False   \n",
       "1                    100.0                 100.0              False   \n",
       "2                    100.0                 100.0              False   \n",
       "3                    100.0                 100.0              False   \n",
       "4                    100.0                 100.0              False   \n",
       "...                    ...                   ...                ...   \n",
       "527592               100.0                  96.0              False   \n",
       "527593               100.0                  96.0              False   \n",
       "527594               100.0                  96.0              False   \n",
       "527595               100.0                  96.0              False   \n",
       "527596               100.0                  96.0              False   \n",
       "\n",
       "       neighbourhood_cleansed property_type     room_type  accommodates  \\\n",
       "0                  Roslindale     Apartment  Private room             2   \n",
       "1                  Roslindale     Apartment  Private room             2   \n",
       "2                  Roslindale     Apartment  Private room             2   \n",
       "3                  Roslindale     Apartment  Private room             2   \n",
       "4                  Roslindale     Apartment  Private room             2   \n",
       "...                       ...           ...           ...           ...   \n",
       "527592            Charlestown     Apartment  Private room             2   \n",
       "527593            Charlestown     Apartment  Private room             2   \n",
       "527594            Charlestown     Apartment  Private room             2   \n",
       "527595            Charlestown     Apartment  Private room             2   \n",
       "527596            Charlestown     Apartment  Private room             2   \n",
       "\n",
       "        bathrooms  bedrooms  beds  number_of_reviews  review_scores_value  \\\n",
       "0             1.0       1.0   1.0                 36                  9.0   \n",
       "1             1.0       1.0   1.0                 36                  9.0   \n",
       "2             1.0       1.0   1.0                 36                  9.0   \n",
       "3             1.0       1.0   1.0                 36                  9.0   \n",
       "4             1.0       1.0   1.0                 36                  9.0   \n",
       "...           ...       ...   ...                ...                  ...   \n",
       "527592        1.0       1.0   1.0                  2                  7.0   \n",
       "527593        1.0       1.0   1.0                  2                  7.0   \n",
       "527594        1.0       1.0   1.0                  2                  7.0   \n",
       "527595        1.0       1.0   1.0                  2                  7.0   \n",
       "527596        1.0       1.0   1.0                  2                  7.0   \n",
       "\n",
       "        instant_bookable cancellation_policy  calculated_host_listings_count  \\\n",
       "0                   True            moderate                               1   \n",
       "1                   True            moderate                               1   \n",
       "2                   True            moderate                               1   \n",
       "3                   True            moderate                               1   \n",
       "4                   True            moderate                               1   \n",
       "...                  ...                 ...                             ...   \n",
       "527592             False              strict                               1   \n",
       "527593             False              strict                               1   \n",
       "527594             False              strict                               1   \n",
       "527595             False              strict                               1   \n",
       "527596             False              strict                               1   \n",
       "\n",
       "        reviews_per_month  host_since_days  is_local  amenities_count  price  \\\n",
       "0                     1.3             1304         1               21   65.0   \n",
       "1                     1.3             1304         1               21   65.0   \n",
       "2                     1.3             1304         1               21   65.0   \n",
       "3                     1.3             1304         1               21   75.0   \n",
       "4                     1.3             1304         1               21   75.0   \n",
       "...                   ...              ...       ...              ...    ...   \n",
       "527592                2.0             2754         0                8   59.0   \n",
       "527593                2.0             2754         0                8   59.0   \n",
       "527594                2.0             2754         0                8   59.0   \n",
       "527595                2.0             2754         0                8   59.0   \n",
       "527596                2.0             2754         0                8   59.0   \n",
       "\n",
       "       month  \n",
       "0        Aug  \n",
       "1        Aug  \n",
       "2        Aug  \n",
       "3        Aug  \n",
       "4        Aug  \n",
       "...      ...  \n",
       "527592   Sep  \n",
       "527593   Sep  \n",
       "527594   Sep  \n",
       "527595   Sep  \n",
       "527596   Sep  \n",
       "\n",
       "[527156 rows x 32 columns]"
      ]
     },
     "execution_count": 12,
     "metadata": {},
     "output_type": "execute_result"
    }
   ],
   "source": [
    "df"
   ]
  },
  {
   "cell_type": "markdown",
   "metadata": {},
   "source": [
    "## TODO\n",
    "\n",
    "- Add plot for month vs. price\n",
    "- Add impact of number of bedrooms/bathrooms\n",
    "- Any impact of reviews/length of description"
   ]
  },
  {
   "cell_type": "markdown",
   "metadata": {},
   "source": [
    "## Preprocessing step"
   ]
  },
  {
   "cell_type": "markdown",
   "metadata": {},
   "source": [
    "As a final bit of preprocessing, we'll deal with missing values, encode categorical features and drop the `id` column.\n",
    "\n",
    "5% of the rows contain missing data in one of the columns, mostly the `host_response_rate` and `host_acceptance_rate` columns. Even though it seems lazy, I see no reason why we shouldn't impute these missing values with the median rather than drop this 5% of the data."
   ]
  },
  {
   "cell_type": "code",
   "execution_count": 13,
   "metadata": {},
   "outputs": [],
   "source": [
    "# Dropping the extremely small subset of rows with no property_type\n",
    "df = df.dropna(subset=['property_type']).copy()\n",
    "\n",
    "# Imputing the mean for the remaining columns with null values\n",
    "columns_with_null = df.columns[df.isnull().any()]\n",
    "for column in columns_with_null:\n",
    "    df[column] = df[column].fillna(df[column].median())"
   ]
  },
  {
   "cell_type": "markdown",
   "metadata": {},
   "source": [
    "Finally we create dummies and drop the id column."
   ]
  },
  {
   "cell_type": "code",
   "execution_count": 14,
   "metadata": {},
   "outputs": [
    {
     "data": {
      "text/html": [
       "<div>\n",
       "<style scoped>\n",
       "    .dataframe tbody tr th:only-of-type {\n",
       "        vertical-align: middle;\n",
       "    }\n",
       "\n",
       "    .dataframe tbody tr th {\n",
       "        vertical-align: top;\n",
       "    }\n",
       "\n",
       "    .dataframe thead th {\n",
       "        text-align: right;\n",
       "    }\n",
       "</style>\n",
       "<table border=\"1\" class=\"dataframe\">\n",
       "  <thead>\n",
       "    <tr style=\"text-align: right;\">\n",
       "      <th></th>\n",
       "      <th>summary</th>\n",
       "      <th>space</th>\n",
       "      <th>description</th>\n",
       "      <th>neighborhood_overview</th>\n",
       "      <th>transit</th>\n",
       "      <th>access</th>\n",
       "      <th>interaction</th>\n",
       "      <th>house_rules</th>\n",
       "      <th>host_about</th>\n",
       "      <th>host_response_time</th>\n",
       "      <th>host_response_rate</th>\n",
       "      <th>host_acceptance_rate</th>\n",
       "      <th>host_is_superhost</th>\n",
       "      <th>accommodates</th>\n",
       "      <th>bathrooms</th>\n",
       "      <th>bedrooms</th>\n",
       "      <th>beds</th>\n",
       "      <th>number_of_reviews</th>\n",
       "      <th>review_scores_value</th>\n",
       "      <th>instant_bookable</th>\n",
       "      <th>calculated_host_listings_count</th>\n",
       "      <th>reviews_per_month</th>\n",
       "      <th>host_since_days</th>\n",
       "      <th>is_local</th>\n",
       "      <th>amenities_count</th>\n",
       "      <th>price</th>\n",
       "      <th>neighbourhood_cleansed_Allston</th>\n",
       "      <th>neighbourhood_cleansed_Back Bay</th>\n",
       "      <th>neighbourhood_cleansed_Bay Village</th>\n",
       "      <th>neighbourhood_cleansed_Beacon Hill</th>\n",
       "      <th>neighbourhood_cleansed_Brighton</th>\n",
       "      <th>neighbourhood_cleansed_Charlestown</th>\n",
       "      <th>neighbourhood_cleansed_Chinatown</th>\n",
       "      <th>neighbourhood_cleansed_Dorchester</th>\n",
       "      <th>neighbourhood_cleansed_Downtown</th>\n",
       "      <th>neighbourhood_cleansed_East Boston</th>\n",
       "      <th>neighbourhood_cleansed_Fenway</th>\n",
       "      <th>neighbourhood_cleansed_Hyde Park</th>\n",
       "      <th>neighbourhood_cleansed_Jamaica Plain</th>\n",
       "      <th>neighbourhood_cleansed_Leather District</th>\n",
       "      <th>neighbourhood_cleansed_Longwood Medical Area</th>\n",
       "      <th>neighbourhood_cleansed_Mattapan</th>\n",
       "      <th>neighbourhood_cleansed_Mission Hill</th>\n",
       "      <th>neighbourhood_cleansed_North End</th>\n",
       "      <th>neighbourhood_cleansed_Roslindale</th>\n",
       "      <th>neighbourhood_cleansed_Roxbury</th>\n",
       "      <th>neighbourhood_cleansed_South Boston</th>\n",
       "      <th>neighbourhood_cleansed_South Boston Waterfront</th>\n",
       "      <th>neighbourhood_cleansed_South End</th>\n",
       "      <th>neighbourhood_cleansed_West End</th>\n",
       "      <th>neighbourhood_cleansed_West Roxbury</th>\n",
       "      <th>property_type_Apartment</th>\n",
       "      <th>property_type_Bed &amp; Breakfast</th>\n",
       "      <th>property_type_Boat</th>\n",
       "      <th>property_type_Condominium</th>\n",
       "      <th>property_type_Dorm</th>\n",
       "      <th>property_type_Entire Floor</th>\n",
       "      <th>property_type_Guesthouse</th>\n",
       "      <th>property_type_House</th>\n",
       "      <th>property_type_Loft</th>\n",
       "      <th>property_type_Other</th>\n",
       "      <th>property_type_Townhouse</th>\n",
       "      <th>property_type_Villa</th>\n",
       "      <th>room_type_Entire home/apt</th>\n",
       "      <th>room_type_Private room</th>\n",
       "      <th>room_type_Shared room</th>\n",
       "      <th>cancellation_policy_flexible</th>\n",
       "      <th>cancellation_policy_moderate</th>\n",
       "      <th>cancellation_policy_strict</th>\n",
       "      <th>cancellation_policy_super_strict_30</th>\n",
       "      <th>month_Apr</th>\n",
       "      <th>month_Aug</th>\n",
       "      <th>month_Dec</th>\n",
       "      <th>month_Feb</th>\n",
       "      <th>month_Jan</th>\n",
       "      <th>month_Jul</th>\n",
       "      <th>month_Jun</th>\n",
       "      <th>month_Mar</th>\n",
       "      <th>month_May</th>\n",
       "      <th>month_Nov</th>\n",
       "      <th>month_Oct</th>\n",
       "      <th>month_Sep</th>\n",
       "    </tr>\n",
       "  </thead>\n",
       "  <tbody>\n",
       "    <tr>\n",
       "      <td>185062</td>\n",
       "      <td>70</td>\n",
       "      <td>796</td>\n",
       "      <td>867</td>\n",
       "      <td>0</td>\n",
       "      <td>0</td>\n",
       "      <td>0</td>\n",
       "      <td>0</td>\n",
       "      <td>21</td>\n",
       "      <td>866</td>\n",
       "      <td>3</td>\n",
       "      <td>89.0</td>\n",
       "      <td>45.0</td>\n",
       "      <td>False</td>\n",
       "      <td>2</td>\n",
       "      <td>1.0</td>\n",
       "      <td>1.0</td>\n",
       "      <td>1.0</td>\n",
       "      <td>22</td>\n",
       "      <td>8.0</td>\n",
       "      <td>False</td>\n",
       "      <td>79</td>\n",
       "      <td>0.35</td>\n",
       "      <td>241</td>\n",
       "      <td>0</td>\n",
       "      <td>6</td>\n",
       "      <td>209.0</td>\n",
       "      <td>0</td>\n",
       "      <td>1</td>\n",
       "      <td>0</td>\n",
       "      <td>0</td>\n",
       "      <td>0</td>\n",
       "      <td>0</td>\n",
       "      <td>0</td>\n",
       "      <td>0</td>\n",
       "      <td>0</td>\n",
       "      <td>0</td>\n",
       "      <td>0</td>\n",
       "      <td>0</td>\n",
       "      <td>0</td>\n",
       "      <td>0</td>\n",
       "      <td>0</td>\n",
       "      <td>0</td>\n",
       "      <td>0</td>\n",
       "      <td>0</td>\n",
       "      <td>0</td>\n",
       "      <td>0</td>\n",
       "      <td>0</td>\n",
       "      <td>0</td>\n",
       "      <td>0</td>\n",
       "      <td>0</td>\n",
       "      <td>0</td>\n",
       "      <td>1</td>\n",
       "      <td>0</td>\n",
       "      <td>0</td>\n",
       "      <td>0</td>\n",
       "      <td>0</td>\n",
       "      <td>0</td>\n",
       "      <td>0</td>\n",
       "      <td>0</td>\n",
       "      <td>0</td>\n",
       "      <td>0</td>\n",
       "      <td>0</td>\n",
       "      <td>0</td>\n",
       "      <td>1</td>\n",
       "      <td>0</td>\n",
       "      <td>0</td>\n",
       "      <td>0</td>\n",
       "      <td>0</td>\n",
       "      <td>0</td>\n",
       "      <td>1</td>\n",
       "      <td>0</td>\n",
       "      <td>1</td>\n",
       "      <td>0</td>\n",
       "      <td>0</td>\n",
       "      <td>0</td>\n",
       "      <td>0</td>\n",
       "      <td>0</td>\n",
       "      <td>0</td>\n",
       "      <td>0</td>\n",
       "      <td>0</td>\n",
       "      <td>0</td>\n",
       "      <td>0</td>\n",
       "    </tr>\n",
       "    <tr>\n",
       "      <td>184452</td>\n",
       "      <td>1</td>\n",
       "      <td>959</td>\n",
       "      <td>961</td>\n",
       "      <td>0</td>\n",
       "      <td>0</td>\n",
       "      <td>0</td>\n",
       "      <td>0</td>\n",
       "      <td>0</td>\n",
       "      <td>866</td>\n",
       "      <td>3</td>\n",
       "      <td>89.0</td>\n",
       "      <td>45.0</td>\n",
       "      <td>False</td>\n",
       "      <td>2</td>\n",
       "      <td>1.0</td>\n",
       "      <td>1.0</td>\n",
       "      <td>1.0</td>\n",
       "      <td>9</td>\n",
       "      <td>8.0</td>\n",
       "      <td>False</td>\n",
       "      <td>79</td>\n",
       "      <td>0.33</td>\n",
       "      <td>241</td>\n",
       "      <td>0</td>\n",
       "      <td>9</td>\n",
       "      <td>352.0</td>\n",
       "      <td>0</td>\n",
       "      <td>1</td>\n",
       "      <td>0</td>\n",
       "      <td>0</td>\n",
       "      <td>0</td>\n",
       "      <td>0</td>\n",
       "      <td>0</td>\n",
       "      <td>0</td>\n",
       "      <td>0</td>\n",
       "      <td>0</td>\n",
       "      <td>0</td>\n",
       "      <td>0</td>\n",
       "      <td>0</td>\n",
       "      <td>0</td>\n",
       "      <td>0</td>\n",
       "      <td>0</td>\n",
       "      <td>0</td>\n",
       "      <td>0</td>\n",
       "      <td>0</td>\n",
       "      <td>0</td>\n",
       "      <td>0</td>\n",
       "      <td>0</td>\n",
       "      <td>0</td>\n",
       "      <td>0</td>\n",
       "      <td>0</td>\n",
       "      <td>1</td>\n",
       "      <td>0</td>\n",
       "      <td>0</td>\n",
       "      <td>0</td>\n",
       "      <td>0</td>\n",
       "      <td>0</td>\n",
       "      <td>0</td>\n",
       "      <td>0</td>\n",
       "      <td>0</td>\n",
       "      <td>0</td>\n",
       "      <td>0</td>\n",
       "      <td>0</td>\n",
       "      <td>1</td>\n",
       "      <td>0</td>\n",
       "      <td>0</td>\n",
       "      <td>0</td>\n",
       "      <td>0</td>\n",
       "      <td>0</td>\n",
       "      <td>1</td>\n",
       "      <td>0</td>\n",
       "      <td>0</td>\n",
       "      <td>0</td>\n",
       "      <td>0</td>\n",
       "      <td>0</td>\n",
       "      <td>0</td>\n",
       "      <td>0</td>\n",
       "      <td>0</td>\n",
       "      <td>0</td>\n",
       "      <td>0</td>\n",
       "      <td>1</td>\n",
       "      <td>0</td>\n",
       "    </tr>\n",
       "    <tr>\n",
       "      <td>185980</td>\n",
       "      <td>167</td>\n",
       "      <td>1000</td>\n",
       "      <td>1000</td>\n",
       "      <td>129</td>\n",
       "      <td>38</td>\n",
       "      <td>0</td>\n",
       "      <td>40</td>\n",
       "      <td>37</td>\n",
       "      <td>866</td>\n",
       "      <td>3</td>\n",
       "      <td>89.0</td>\n",
       "      <td>45.0</td>\n",
       "      <td>False</td>\n",
       "      <td>2</td>\n",
       "      <td>1.0</td>\n",
       "      <td>1.0</td>\n",
       "      <td>1.0</td>\n",
       "      <td>22</td>\n",
       "      <td>9.0</td>\n",
       "      <td>False</td>\n",
       "      <td>79</td>\n",
       "      <td>0.28</td>\n",
       "      <td>241</td>\n",
       "      <td>0</td>\n",
       "      <td>12</td>\n",
       "      <td>251.0</td>\n",
       "      <td>0</td>\n",
       "      <td>1</td>\n",
       "      <td>0</td>\n",
       "      <td>0</td>\n",
       "      <td>0</td>\n",
       "      <td>0</td>\n",
       "      <td>0</td>\n",
       "      <td>0</td>\n",
       "      <td>0</td>\n",
       "      <td>0</td>\n",
       "      <td>0</td>\n",
       "      <td>0</td>\n",
       "      <td>0</td>\n",
       "      <td>0</td>\n",
       "      <td>0</td>\n",
       "      <td>0</td>\n",
       "      <td>0</td>\n",
       "      <td>0</td>\n",
       "      <td>0</td>\n",
       "      <td>0</td>\n",
       "      <td>0</td>\n",
       "      <td>0</td>\n",
       "      <td>0</td>\n",
       "      <td>0</td>\n",
       "      <td>0</td>\n",
       "      <td>1</td>\n",
       "      <td>0</td>\n",
       "      <td>0</td>\n",
       "      <td>0</td>\n",
       "      <td>0</td>\n",
       "      <td>0</td>\n",
       "      <td>0</td>\n",
       "      <td>0</td>\n",
       "      <td>0</td>\n",
       "      <td>0</td>\n",
       "      <td>0</td>\n",
       "      <td>0</td>\n",
       "      <td>1</td>\n",
       "      <td>0</td>\n",
       "      <td>0</td>\n",
       "      <td>0</td>\n",
       "      <td>0</td>\n",
       "      <td>0</td>\n",
       "      <td>1</td>\n",
       "      <td>0</td>\n",
       "      <td>0</td>\n",
       "      <td>0</td>\n",
       "      <td>0</td>\n",
       "      <td>1</td>\n",
       "      <td>0</td>\n",
       "      <td>0</td>\n",
       "      <td>0</td>\n",
       "      <td>0</td>\n",
       "      <td>0</td>\n",
       "      <td>0</td>\n",
       "      <td>0</td>\n",
       "    </tr>\n",
       "  </tbody>\n",
       "</table>\n",
       "</div>"
      ],
      "text/plain": [
       "        summary  space  description  neighborhood_overview  transit  access  \\\n",
       "185062       70    796          867                      0        0       0   \n",
       "184452        1    959          961                      0        0       0   \n",
       "185980      167   1000         1000                    129       38       0   \n",
       "\n",
       "        interaction  house_rules  host_about  host_response_time  \\\n",
       "185062            0           21         866                   3   \n",
       "184452            0            0         866                   3   \n",
       "185980           40           37         866                   3   \n",
       "\n",
       "        host_response_rate  host_acceptance_rate  host_is_superhost  \\\n",
       "185062                89.0                  45.0              False   \n",
       "184452                89.0                  45.0              False   \n",
       "185980                89.0                  45.0              False   \n",
       "\n",
       "        accommodates  bathrooms  bedrooms  beds  number_of_reviews  \\\n",
       "185062             2        1.0       1.0   1.0                 22   \n",
       "184452             2        1.0       1.0   1.0                  9   \n",
       "185980             2        1.0       1.0   1.0                 22   \n",
       "\n",
       "        review_scores_value  instant_bookable  calculated_host_listings_count  \\\n",
       "185062                  8.0             False                              79   \n",
       "184452                  8.0             False                              79   \n",
       "185980                  9.0             False                              79   \n",
       "\n",
       "        reviews_per_month  host_since_days  is_local  amenities_count  price  \\\n",
       "185062               0.35              241         0                6  209.0   \n",
       "184452               0.33              241         0                9  352.0   \n",
       "185980               0.28              241         0               12  251.0   \n",
       "\n",
       "        neighbourhood_cleansed_Allston  neighbourhood_cleansed_Back Bay  \\\n",
       "185062                               0                                1   \n",
       "184452                               0                                1   \n",
       "185980                               0                                1   \n",
       "\n",
       "        neighbourhood_cleansed_Bay Village  \\\n",
       "185062                                   0   \n",
       "184452                                   0   \n",
       "185980                                   0   \n",
       "\n",
       "        neighbourhood_cleansed_Beacon Hill  neighbourhood_cleansed_Brighton  \\\n",
       "185062                                   0                                0   \n",
       "184452                                   0                                0   \n",
       "185980                                   0                                0   \n",
       "\n",
       "        neighbourhood_cleansed_Charlestown  neighbourhood_cleansed_Chinatown  \\\n",
       "185062                                   0                                 0   \n",
       "184452                                   0                                 0   \n",
       "185980                                   0                                 0   \n",
       "\n",
       "        neighbourhood_cleansed_Dorchester  neighbourhood_cleansed_Downtown  \\\n",
       "185062                                  0                                0   \n",
       "184452                                  0                                0   \n",
       "185980                                  0                                0   \n",
       "\n",
       "        neighbourhood_cleansed_East Boston  neighbourhood_cleansed_Fenway  \\\n",
       "185062                                   0                              0   \n",
       "184452                                   0                              0   \n",
       "185980                                   0                              0   \n",
       "\n",
       "        neighbourhood_cleansed_Hyde Park  \\\n",
       "185062                                 0   \n",
       "184452                                 0   \n",
       "185980                                 0   \n",
       "\n",
       "        neighbourhood_cleansed_Jamaica Plain  \\\n",
       "185062                                     0   \n",
       "184452                                     0   \n",
       "185980                                     0   \n",
       "\n",
       "        neighbourhood_cleansed_Leather District  \\\n",
       "185062                                        0   \n",
       "184452                                        0   \n",
       "185980                                        0   \n",
       "\n",
       "        neighbourhood_cleansed_Longwood Medical Area  \\\n",
       "185062                                             0   \n",
       "184452                                             0   \n",
       "185980                                             0   \n",
       "\n",
       "        neighbourhood_cleansed_Mattapan  neighbourhood_cleansed_Mission Hill  \\\n",
       "185062                                0                                    0   \n",
       "184452                                0                                    0   \n",
       "185980                                0                                    0   \n",
       "\n",
       "        neighbourhood_cleansed_North End  neighbourhood_cleansed_Roslindale  \\\n",
       "185062                                 0                                  0   \n",
       "184452                                 0                                  0   \n",
       "185980                                 0                                  0   \n",
       "\n",
       "        neighbourhood_cleansed_Roxbury  neighbourhood_cleansed_South Boston  \\\n",
       "185062                               0                                    0   \n",
       "184452                               0                                    0   \n",
       "185980                               0                                    0   \n",
       "\n",
       "        neighbourhood_cleansed_South Boston Waterfront  \\\n",
       "185062                                               0   \n",
       "184452                                               0   \n",
       "185980                                               0   \n",
       "\n",
       "        neighbourhood_cleansed_South End  neighbourhood_cleansed_West End  \\\n",
       "185062                                 0                                0   \n",
       "184452                                 0                                0   \n",
       "185980                                 0                                0   \n",
       "\n",
       "        neighbourhood_cleansed_West Roxbury  property_type_Apartment  \\\n",
       "185062                                    0                        1   \n",
       "184452                                    0                        1   \n",
       "185980                                    0                        1   \n",
       "\n",
       "        property_type_Bed & Breakfast  property_type_Boat  \\\n",
       "185062                              0                   0   \n",
       "184452                              0                   0   \n",
       "185980                              0                   0   \n",
       "\n",
       "        property_type_Condominium  property_type_Dorm  \\\n",
       "185062                          0                   0   \n",
       "184452                          0                   0   \n",
       "185980                          0                   0   \n",
       "\n",
       "        property_type_Entire Floor  property_type_Guesthouse  \\\n",
       "185062                           0                         0   \n",
       "184452                           0                         0   \n",
       "185980                           0                         0   \n",
       "\n",
       "        property_type_House  property_type_Loft  property_type_Other  \\\n",
       "185062                    0                   0                    0   \n",
       "184452                    0                   0                    0   \n",
       "185980                    0                   0                    0   \n",
       "\n",
       "        property_type_Townhouse  property_type_Villa  \\\n",
       "185062                        0                    0   \n",
       "184452                        0                    0   \n",
       "185980                        0                    0   \n",
       "\n",
       "        room_type_Entire home/apt  room_type_Private room  \\\n",
       "185062                          1                       0   \n",
       "184452                          1                       0   \n",
       "185980                          1                       0   \n",
       "\n",
       "        room_type_Shared room  cancellation_policy_flexible  \\\n",
       "185062                      0                             0   \n",
       "184452                      0                             0   \n",
       "185980                      0                             0   \n",
       "\n",
       "        cancellation_policy_moderate  cancellation_policy_strict  \\\n",
       "185062                             0                           0   \n",
       "184452                             0                           0   \n",
       "185980                             0                           0   \n",
       "\n",
       "        cancellation_policy_super_strict_30  month_Apr  month_Aug  month_Dec  \\\n",
       "185062                                    1          0          1          0   \n",
       "184452                                    1          0          0          0   \n",
       "185980                                    1          0          0          0   \n",
       "\n",
       "        month_Feb  month_Jan  month_Jul  month_Jun  month_Mar  month_May  \\\n",
       "185062          0          0          0          0          0          0   \n",
       "184452          0          0          0          0          0          0   \n",
       "185980          0          1          0          0          0          0   \n",
       "\n",
       "        month_Nov  month_Oct  month_Sep  \n",
       "185062          0          0          0  \n",
       "184452          0          1          0  \n",
       "185980          0          0          0  "
      ]
     },
     "execution_count": 14,
     "metadata": {},
     "output_type": "execute_result"
    }
   ],
   "source": [
    "df = pd.get_dummies(df)\n",
    "df = df.drop(['id'], axis=1)\n",
    "df.sample(3)"
   ]
  },
  {
   "cell_type": "markdown",
   "metadata": {},
   "source": [
    "## Modelling"
   ]
  },
  {
   "cell_type": "markdown",
   "metadata": {},
   "source": [
    "We'll fit the data to a few different regression methods but the trusty Linear Regression may suit our needs best. The data may contain non-linear relationships that Linear Regression will not be able to capture but it does have the significant benefit of being easily interpretable and the coefficients provided by the model will allow us to easily get a rough idea for how much we should be charging for listings.\n",
    "\n",
    "We'll then use a few tree-based ensemble methods. Tree-based methods give us great flexibility in their ability to describe non-linear relationships but they also tend to be very sensitive to small variations in the training data and, unconstrained, can lead to overfitting. This is why we'll use a few ensemble methods to reduce this tendency to overfit. Further, tree-based methods allow for measuring the importance of features in prediction."
   ]
  },
  {
   "cell_type": "markdown",
   "metadata": {},
   "source": [
    "### Linear Regression\n",
    "\n",
    "With a moderate amount of features, we'll need to keep an eye on overfitting, scoring the model on both the training and test sets. If we were to detect any bias/variance then we can look at one of the regularisation methods."
   ]
  },
  {
   "cell_type": "code",
   "execution_count": 21,
   "metadata": {},
   "outputs": [
    {
     "name": "stdout",
     "output_type": "stream",
     "text": [
      "Train R-squared: 0.600    \n",
      "Test R-squared: 0.608    \n",
      "Train RMSE: $96.86    \n",
      "Test RMSE: $95.53\n"
     ]
    }
   ],
   "source": [
    "from sklearn.linear_model import LinearRegression\n",
    "from sklearn.model_selection import train_test_split\n",
    "from sklearn.metrics import mean_squared_error, r2_score\n",
    "\n",
    "X = df.drop('price', axis=1)\n",
    "y = df.price\n",
    "\n",
    "# Split into train/test\n",
    "X_train, X_test, y_train, y_test = train_test_split(X, y, test_size=0.3, random_state=42)\n",
    "\n",
    "model = LinearRegression()\n",
    "model.fit(X_train, y_train)\n",
    "y_pred_train = model.predict(X_train)\n",
    "y_pred_test = model.predict(X_test)\n",
    "\n",
    "# R-squared score\n",
    "r2_train = r2_score(y_train, y_pred_train)\n",
    "r2_test = r2_score(y_test, y_pred_test)\n",
    "\n",
    "# RMSE\n",
    "rmse_train = (mean_squared_error(y_train, y_pred_train))**0.5\n",
    "rmse_test = (mean_squared_error(y_test, y_pred_test))**0.5\n",
    "\n",
    "print(\n",
    "    'Train R-squared: {:.3f}\\tTrain RMSE: ${:.2f}\\\n",
    "    \\nTest R-squared: {:.3f}\\tTest RMSE: ${:.2f}'\n",
    "    .format(r2_train, rmse_train, r2_test, rmse_test)\n",
    ")"
   ]
  },
  {
   "cell_type": "markdown",
   "metadata": {},
   "source": [
    "Our model spits out an R-squared score of 60% meaning that we can account for around 60% of the variance using our features using Linear Regression. We also need to bear in mind the significant standard deviation of the residuals represented by the $97 root-mean-squared-error. Predictions made with the model have a large error margin.\n",
    "\n",
    "Now let's have a look at the coefficients."
   ]
  },
  {
   "cell_type": "code",
   "execution_count": 23,
   "metadata": {
    "jupyter": {
     "source_hidden": true
    }
   },
   "outputs": [
    {
     "data": {
      "application/vnd.plotly.v1+json": {
       "config": {
        "plotlyServerURL": "https://plot.ly"
       },
       "data": [
        {
         "alignmentgroup": "True",
         "hovertemplate": "features=%{x}<br>coefficients=%{y}<extra></extra>",
         "legendgroup": "",
         "marker": {
          "color": "#636efa"
         },
         "name": "",
         "offsetgroup": "",
         "orientation": "v",
         "showlegend": false,
         "textposition": "auto",
         "type": "bar",
         "x": [
          "neighbourhood_cleansed_West Roxbury",
          "neighbourhood_cleansed_Roslindale",
          "neighbourhood_cleansed_Dorchester",
          "neighbourhood_cleansed_Mattapan",
          "neighbourhood_cleansed_Hyde Park",
          "property_type_Dorm",
          "property_type_Other",
          "neighbourhood_cleansed_Jamaica Plain",
          "neighbourhood_cleansed_Brighton",
          "property_type_Villa",
          "neighbourhood_cleansed_Allston",
          "neighbourhood_cleansed_East Boston",
          "neighbourhood_cleansed_Mission Hill",
          "room_type_Shared room",
          "month_Jan",
          "neighbourhood_cleansed_Roxbury",
          "month_Feb",
          "room_type_Private room",
          "month_Dec",
          "cancellation_policy_super_strict_30",
          "property_type_Entire Floor",
          "month_Mar",
          "property_type_Guesthouse",
          "neighbourhood_cleansed_South Boston",
          "month_Nov",
          "reviews_per_month",
          "host_response_time",
          "review_scores_value",
          "number_of_reviews",
          "summary",
          "transit",
          "access",
          "description",
          "house_rules",
          "host_since_days",
          "host_about",
          "neighborhood_overview",
          "interaction",
          "space",
          "host_acceptance_rate",
          "host_response_rate",
          "calculated_host_listings_count",
          "cancellation_policy_moderate",
          "amenities_count",
          "instant_bookable",
          "month_May",
          "cancellation_policy_strict",
          "neighbourhood_cleansed_Longwood Medical Area",
          "neighbourhood_cleansed_Charlestown",
          "month_Jun",
          "accommodates",
          "month_Apr",
          "beds",
          "property_type_Boat",
          "cancellation_policy_flexible",
          "month_Jul",
          "neighbourhood_cleansed_North End",
          "month_Aug",
          "month_Sep",
          "property_type_Bed & Breakfast",
          "month_Oct",
          "property_type_Apartment",
          "is_local",
          "property_type_House",
          "host_is_superhost",
          "neighbourhood_cleansed_West End",
          "bathrooms",
          "property_type_Condominium",
          "property_type_Townhouse",
          "neighbourhood_cleansed_Fenway",
          "neighbourhood_cleansed_Downtown",
          "neighbourhood_cleansed_Chinatown",
          "room_type_Entire home/apt",
          "property_type_Loft",
          "neighbourhood_cleansed_South End",
          "neighbourhood_cleansed_Beacon Hill",
          "bedrooms",
          "neighbourhood_cleansed_Back Bay",
          "neighbourhood_cleansed_Bay Village",
          "neighbourhood_cleansed_South Boston Waterfront",
          "neighbourhood_cleansed_Leather District"
         ],
         "xaxis": "x",
         "y": [
          -87.4993323542416,
          -82.00154240489543,
          -70.94205787845772,
          -67.55572473965253,
          -59.80814719615219,
          -58.12272289160872,
          -56.236922247930565,
          -52.27962174019047,
          -49.68898894962375,
          -49.222150381546044,
          -38.865521517483025,
          -36.75415910189599,
          -32.68432269132745,
          -26.451161681761917,
          -19.414682632831905,
          -17.968006217443715,
          -17.80545281236983,
          -17.14546244920551,
          -16.271187442446926,
          -15.313966187954943,
          -12.018349346916537,
          -11.703804809282554,
          -9.123951168366297,
          -7.217550132681161,
          -5.447954424231387,
          -3.2229087732636614,
          -2.5136586944392167,
          -1.1803261881470135,
          -0.14571187702536292,
          -0.023905816135544666,
          -0.01835854053338959,
          -0.014806666106515931,
          -0.009705851946278307,
          -0.0015568368018854528,
          -0.0004975893668586195,
          0.0049676810594572185,
          0.005634997745430068,
          0.015584222314640295,
          0.02437614641309732,
          0.2351823755231588,
          0.5450409619031271,
          0.753251483307135,
          1.3677015444289902,
          1.4481407482201516,
          2.6602088302728495,
          2.834022463691408,
          2.9889874184394642,
          3.8581547127016993,
          4.410044839657484,
          5.406504259970054,
          5.953368811469879,
          6.524077870963529,
          6.548749171660486,
          7.7050673167966615,
          10.957277225075364,
          10.988916831340896,
          12.10858307098242,
          12.37699316794511,
          15.128229267373294,
          16.819398131277083,
          17.384338259895696,
          18.05093615815514,
          18.06328639116502,
          24.2560865792898,
          25.381362725771098,
          26.081894513344757,
          34.54110024353643,
          34.88544169888469,
          36.01170263760588,
          36.6880125795177,
          39.164507236105344,
          41.74125341002406,
          43.59662413096465,
          46.99546351431155,
          50.98226854699928,
          57.20045833694872,
          64.03013633033225,
          67.63349747553409,
          67.89234242434318,
          85.2796187243867,
          110.22433905345558
         ],
         "yaxis": "y"
        }
       ],
       "layout": {
        "autosize": true,
        "barmode": "relative",
        "legend": {
         "tracegroupgap": 0
        },
        "margin": {
         "t": 60
        },
        "template": {
         "data": {
          "bar": [
           {
            "error_x": {
             "color": "#2a3f5f"
            },
            "error_y": {
             "color": "#2a3f5f"
            },
            "marker": {
             "line": {
              "color": "#E5ECF6",
              "width": 0.5
             }
            },
            "type": "bar"
           }
          ],
          "barpolar": [
           {
            "marker": {
             "line": {
              "color": "#E5ECF6",
              "width": 0.5
             }
            },
            "type": "barpolar"
           }
          ],
          "carpet": [
           {
            "aaxis": {
             "endlinecolor": "#2a3f5f",
             "gridcolor": "white",
             "linecolor": "white",
             "minorgridcolor": "white",
             "startlinecolor": "#2a3f5f"
            },
            "baxis": {
             "endlinecolor": "#2a3f5f",
             "gridcolor": "white",
             "linecolor": "white",
             "minorgridcolor": "white",
             "startlinecolor": "#2a3f5f"
            },
            "type": "carpet"
           }
          ],
          "choropleth": [
           {
            "colorbar": {
             "outlinewidth": 0,
             "ticks": ""
            },
            "type": "choropleth"
           }
          ],
          "contour": [
           {
            "colorbar": {
             "outlinewidth": 0,
             "ticks": ""
            },
            "colorscale": [
             [
              0,
              "#0d0887"
             ],
             [
              0.1111111111111111,
              "#46039f"
             ],
             [
              0.2222222222222222,
              "#7201a8"
             ],
             [
              0.3333333333333333,
              "#9c179e"
             ],
             [
              0.4444444444444444,
              "#bd3786"
             ],
             [
              0.5555555555555556,
              "#d8576b"
             ],
             [
              0.6666666666666666,
              "#ed7953"
             ],
             [
              0.7777777777777778,
              "#fb9f3a"
             ],
             [
              0.8888888888888888,
              "#fdca26"
             ],
             [
              1,
              "#f0f921"
             ]
            ],
            "type": "contour"
           }
          ],
          "contourcarpet": [
           {
            "colorbar": {
             "outlinewidth": 0,
             "ticks": ""
            },
            "type": "contourcarpet"
           }
          ],
          "heatmap": [
           {
            "colorbar": {
             "outlinewidth": 0,
             "ticks": ""
            },
            "colorscale": [
             [
              0,
              "#0d0887"
             ],
             [
              0.1111111111111111,
              "#46039f"
             ],
             [
              0.2222222222222222,
              "#7201a8"
             ],
             [
              0.3333333333333333,
              "#9c179e"
             ],
             [
              0.4444444444444444,
              "#bd3786"
             ],
             [
              0.5555555555555556,
              "#d8576b"
             ],
             [
              0.6666666666666666,
              "#ed7953"
             ],
             [
              0.7777777777777778,
              "#fb9f3a"
             ],
             [
              0.8888888888888888,
              "#fdca26"
             ],
             [
              1,
              "#f0f921"
             ]
            ],
            "type": "heatmap"
           }
          ],
          "heatmapgl": [
           {
            "colorbar": {
             "outlinewidth": 0,
             "ticks": ""
            },
            "colorscale": [
             [
              0,
              "#0d0887"
             ],
             [
              0.1111111111111111,
              "#46039f"
             ],
             [
              0.2222222222222222,
              "#7201a8"
             ],
             [
              0.3333333333333333,
              "#9c179e"
             ],
             [
              0.4444444444444444,
              "#bd3786"
             ],
             [
              0.5555555555555556,
              "#d8576b"
             ],
             [
              0.6666666666666666,
              "#ed7953"
             ],
             [
              0.7777777777777778,
              "#fb9f3a"
             ],
             [
              0.8888888888888888,
              "#fdca26"
             ],
             [
              1,
              "#f0f921"
             ]
            ],
            "type": "heatmapgl"
           }
          ],
          "histogram": [
           {
            "marker": {
             "colorbar": {
              "outlinewidth": 0,
              "ticks": ""
             }
            },
            "type": "histogram"
           }
          ],
          "histogram2d": [
           {
            "colorbar": {
             "outlinewidth": 0,
             "ticks": ""
            },
            "colorscale": [
             [
              0,
              "#0d0887"
             ],
             [
              0.1111111111111111,
              "#46039f"
             ],
             [
              0.2222222222222222,
              "#7201a8"
             ],
             [
              0.3333333333333333,
              "#9c179e"
             ],
             [
              0.4444444444444444,
              "#bd3786"
             ],
             [
              0.5555555555555556,
              "#d8576b"
             ],
             [
              0.6666666666666666,
              "#ed7953"
             ],
             [
              0.7777777777777778,
              "#fb9f3a"
             ],
             [
              0.8888888888888888,
              "#fdca26"
             ],
             [
              1,
              "#f0f921"
             ]
            ],
            "type": "histogram2d"
           }
          ],
          "histogram2dcontour": [
           {
            "colorbar": {
             "outlinewidth": 0,
             "ticks": ""
            },
            "colorscale": [
             [
              0,
              "#0d0887"
             ],
             [
              0.1111111111111111,
              "#46039f"
             ],
             [
              0.2222222222222222,
              "#7201a8"
             ],
             [
              0.3333333333333333,
              "#9c179e"
             ],
             [
              0.4444444444444444,
              "#bd3786"
             ],
             [
              0.5555555555555556,
              "#d8576b"
             ],
             [
              0.6666666666666666,
              "#ed7953"
             ],
             [
              0.7777777777777778,
              "#fb9f3a"
             ],
             [
              0.8888888888888888,
              "#fdca26"
             ],
             [
              1,
              "#f0f921"
             ]
            ],
            "type": "histogram2dcontour"
           }
          ],
          "mesh3d": [
           {
            "colorbar": {
             "outlinewidth": 0,
             "ticks": ""
            },
            "type": "mesh3d"
           }
          ],
          "parcoords": [
           {
            "line": {
             "colorbar": {
              "outlinewidth": 0,
              "ticks": ""
             }
            },
            "type": "parcoords"
           }
          ],
          "pie": [
           {
            "automargin": true,
            "type": "pie"
           }
          ],
          "scatter": [
           {
            "marker": {
             "colorbar": {
              "outlinewidth": 0,
              "ticks": ""
             }
            },
            "type": "scatter"
           }
          ],
          "scatter3d": [
           {
            "line": {
             "colorbar": {
              "outlinewidth": 0,
              "ticks": ""
             }
            },
            "marker": {
             "colorbar": {
              "outlinewidth": 0,
              "ticks": ""
             }
            },
            "type": "scatter3d"
           }
          ],
          "scattercarpet": [
           {
            "marker": {
             "colorbar": {
              "outlinewidth": 0,
              "ticks": ""
             }
            },
            "type": "scattercarpet"
           }
          ],
          "scattergeo": [
           {
            "marker": {
             "colorbar": {
              "outlinewidth": 0,
              "ticks": ""
             }
            },
            "type": "scattergeo"
           }
          ],
          "scattergl": [
           {
            "marker": {
             "colorbar": {
              "outlinewidth": 0,
              "ticks": ""
             }
            },
            "type": "scattergl"
           }
          ],
          "scattermapbox": [
           {
            "marker": {
             "colorbar": {
              "outlinewidth": 0,
              "ticks": ""
             }
            },
            "type": "scattermapbox"
           }
          ],
          "scatterpolar": [
           {
            "marker": {
             "colorbar": {
              "outlinewidth": 0,
              "ticks": ""
             }
            },
            "type": "scatterpolar"
           }
          ],
          "scatterpolargl": [
           {
            "marker": {
             "colorbar": {
              "outlinewidth": 0,
              "ticks": ""
             }
            },
            "type": "scatterpolargl"
           }
          ],
          "scatterternary": [
           {
            "marker": {
             "colorbar": {
              "outlinewidth": 0,
              "ticks": ""
             }
            },
            "type": "scatterternary"
           }
          ],
          "surface": [
           {
            "colorbar": {
             "outlinewidth": 0,
             "ticks": ""
            },
            "colorscale": [
             [
              0,
              "#0d0887"
             ],
             [
              0.1111111111111111,
              "#46039f"
             ],
             [
              0.2222222222222222,
              "#7201a8"
             ],
             [
              0.3333333333333333,
              "#9c179e"
             ],
             [
              0.4444444444444444,
              "#bd3786"
             ],
             [
              0.5555555555555556,
              "#d8576b"
             ],
             [
              0.6666666666666666,
              "#ed7953"
             ],
             [
              0.7777777777777778,
              "#fb9f3a"
             ],
             [
              0.8888888888888888,
              "#fdca26"
             ],
             [
              1,
              "#f0f921"
             ]
            ],
            "type": "surface"
           }
          ],
          "table": [
           {
            "cells": {
             "fill": {
              "color": "#EBF0F8"
             },
             "line": {
              "color": "white"
             }
            },
            "header": {
             "fill": {
              "color": "#C8D4E3"
             },
             "line": {
              "color": "white"
             }
            },
            "type": "table"
           }
          ]
         },
         "layout": {
          "annotationdefaults": {
           "arrowcolor": "#2a3f5f",
           "arrowhead": 0,
           "arrowwidth": 1
          },
          "coloraxis": {
           "colorbar": {
            "outlinewidth": 0,
            "ticks": ""
           }
          },
          "colorscale": {
           "diverging": [
            [
             0,
             "#8e0152"
            ],
            [
             0.1,
             "#c51b7d"
            ],
            [
             0.2,
             "#de77ae"
            ],
            [
             0.3,
             "#f1b6da"
            ],
            [
             0.4,
             "#fde0ef"
            ],
            [
             0.5,
             "#f7f7f7"
            ],
            [
             0.6,
             "#e6f5d0"
            ],
            [
             0.7,
             "#b8e186"
            ],
            [
             0.8,
             "#7fbc41"
            ],
            [
             0.9,
             "#4d9221"
            ],
            [
             1,
             "#276419"
            ]
           ],
           "sequential": [
            [
             0,
             "#0d0887"
            ],
            [
             0.1111111111111111,
             "#46039f"
            ],
            [
             0.2222222222222222,
             "#7201a8"
            ],
            [
             0.3333333333333333,
             "#9c179e"
            ],
            [
             0.4444444444444444,
             "#bd3786"
            ],
            [
             0.5555555555555556,
             "#d8576b"
            ],
            [
             0.6666666666666666,
             "#ed7953"
            ],
            [
             0.7777777777777778,
             "#fb9f3a"
            ],
            [
             0.8888888888888888,
             "#fdca26"
            ],
            [
             1,
             "#f0f921"
            ]
           ],
           "sequentialminus": [
            [
             0,
             "#0d0887"
            ],
            [
             0.1111111111111111,
             "#46039f"
            ],
            [
             0.2222222222222222,
             "#7201a8"
            ],
            [
             0.3333333333333333,
             "#9c179e"
            ],
            [
             0.4444444444444444,
             "#bd3786"
            ],
            [
             0.5555555555555556,
             "#d8576b"
            ],
            [
             0.6666666666666666,
             "#ed7953"
            ],
            [
             0.7777777777777778,
             "#fb9f3a"
            ],
            [
             0.8888888888888888,
             "#fdca26"
            ],
            [
             1,
             "#f0f921"
            ]
           ]
          },
          "colorway": [
           "#636efa",
           "#EF553B",
           "#00cc96",
           "#ab63fa",
           "#FFA15A",
           "#19d3f3",
           "#FF6692",
           "#B6E880",
           "#FF97FF",
           "#FECB52"
          ],
          "font": {
           "color": "#2a3f5f"
          },
          "geo": {
           "bgcolor": "white",
           "lakecolor": "white",
           "landcolor": "#E5ECF6",
           "showlakes": true,
           "showland": true,
           "subunitcolor": "white"
          },
          "hoverlabel": {
           "align": "left"
          },
          "hovermode": "closest",
          "mapbox": {
           "style": "light"
          },
          "paper_bgcolor": "white",
          "plot_bgcolor": "#E5ECF6",
          "polar": {
           "angularaxis": {
            "gridcolor": "white",
            "linecolor": "white",
            "ticks": ""
           },
           "bgcolor": "#E5ECF6",
           "radialaxis": {
            "gridcolor": "white",
            "linecolor": "white",
            "ticks": ""
           }
          },
          "scene": {
           "xaxis": {
            "backgroundcolor": "#E5ECF6",
            "gridcolor": "white",
            "gridwidth": 2,
            "linecolor": "white",
            "showbackground": true,
            "ticks": "",
            "zerolinecolor": "white"
           },
           "yaxis": {
            "backgroundcolor": "#E5ECF6",
            "gridcolor": "white",
            "gridwidth": 2,
            "linecolor": "white",
            "showbackground": true,
            "ticks": "",
            "zerolinecolor": "white"
           },
           "zaxis": {
            "backgroundcolor": "#E5ECF6",
            "gridcolor": "white",
            "gridwidth": 2,
            "linecolor": "white",
            "showbackground": true,
            "ticks": "",
            "zerolinecolor": "white"
           }
          },
          "shapedefaults": {
           "line": {
            "color": "#2a3f5f"
           }
          },
          "ternary": {
           "aaxis": {
            "gridcolor": "white",
            "linecolor": "white",
            "ticks": ""
           },
           "baxis": {
            "gridcolor": "white",
            "linecolor": "white",
            "ticks": ""
           },
           "bgcolor": "#E5ECF6",
           "caxis": {
            "gridcolor": "white",
            "linecolor": "white",
            "ticks": ""
           }
          },
          "title": {
           "x": 0.05
          },
          "xaxis": {
           "automargin": true,
           "gridcolor": "white",
           "linecolor": "white",
           "ticks": "",
           "title": {
            "standoff": 15
           },
           "zerolinecolor": "white",
           "zerolinewidth": 2
          },
          "yaxis": {
           "automargin": true,
           "gridcolor": "white",
           "linecolor": "white",
           "ticks": "",
           "title": {
            "standoff": 15
           },
           "zerolinecolor": "white",
           "zerolinewidth": 2
          }
         }
        },
        "xaxis": {
         "anchor": "y",
         "autorange": true,
         "domain": [
          0,
          1
         ],
         "range": [
          -0.5,
          80.5
         ],
         "title": {
          "text": "features"
         },
         "type": "category"
        },
        "yaxis": {
         "anchor": "x",
         "autorange": true,
         "domain": [
          0,
          1
         ],
         "range": [
          -98.48398076578033,
          121.20898746499431
         ],
         "title": {
          "text": "coefficients"
         },
         "type": "linear"
        }
       }
      },
      "image/png": "[encoded data removed]",
      "text/html": [
       "<div>\n",
       "        \n",
       "        \n",
       "            <div id=\"97b9a027-733f-484b-82df-05858e9b9697\" class=\"plotly-graph-div\" style=\"height:600px; width:100%;\"></div>\n",
       "            <script type=\"text/javascript\">\n",
       "                require([\"plotly\"], function(Plotly) {\n",
       "                    window.PLOTLYENV=window.PLOTLYENV || {};\n",
       "                    \n",
       "                if (document.getElementById(\"97b9a027-733f-484b-82df-05858e9b9697\")) {\n",
       "                    Plotly.newPlot(\n",
       "                        '97b9a027-733f-484b-82df-05858e9b9697',\n",
       "                        [{\"alignmentgroup\": \"True\", \"hovertemplate\": \"features=%{x}<br>coefficients=%{y}<extra></extra>\", \"legendgroup\": \"\", \"marker\": {\"color\": \"#636efa\"}, \"name\": \"\", \"offsetgroup\": \"\", \"orientation\": \"v\", \"showlegend\": false, \"textposition\": \"auto\", \"type\": \"bar\", \"x\": [\"neighbourhood_cleansed_West Roxbury\", \"neighbourhood_cleansed_Roslindale\", \"neighbourhood_cleansed_Dorchester\", \"neighbourhood_cleansed_Mattapan\", \"neighbourhood_cleansed_Hyde Park\", \"property_type_Dorm\", \"property_type_Other\", \"neighbourhood_cleansed_Jamaica Plain\", \"neighbourhood_cleansed_Brighton\", \"property_type_Villa\", \"neighbourhood_cleansed_Allston\", \"neighbourhood_cleansed_East Boston\", \"neighbourhood_cleansed_Mission Hill\", \"room_type_Shared room\", \"month_Jan\", \"neighbourhood_cleansed_Roxbury\", \"month_Feb\", \"room_type_Private room\", \"month_Dec\", \"cancellation_policy_super_strict_30\", \"property_type_Entire Floor\", \"month_Mar\", \"property_type_Guesthouse\", \"neighbourhood_cleansed_South Boston\", \"month_Nov\", \"reviews_per_month\", \"host_response_time\", \"review_scores_value\", \"number_of_reviews\", \"summary\", \"transit\", \"access\", \"description\", \"house_rules\", \"host_since_days\", \"host_about\", \"neighborhood_overview\", \"interaction\", \"space\", \"host_acceptance_rate\", \"host_response_rate\", \"calculated_host_listings_count\", \"cancellation_policy_moderate\", \"amenities_count\", \"instant_bookable\", \"month_May\", \"cancellation_policy_strict\", \"neighbourhood_cleansed_Longwood Medical Area\", \"neighbourhood_cleansed_Charlestown\", \"month_Jun\", \"accommodates\", \"month_Apr\", \"beds\", \"property_type_Boat\", \"cancellation_policy_flexible\", \"month_Jul\", \"neighbourhood_cleansed_North End\", \"month_Aug\", \"month_Sep\", \"property_type_Bed & Breakfast\", \"month_Oct\", \"property_type_Apartment\", \"is_local\", \"property_type_House\", \"host_is_superhost\", \"neighbourhood_cleansed_West End\", \"bathrooms\", \"property_type_Condominium\", \"property_type_Townhouse\", \"neighbourhood_cleansed_Fenway\", \"neighbourhood_cleansed_Downtown\", \"neighbourhood_cleansed_Chinatown\", \"room_type_Entire home/apt\", \"property_type_Loft\", \"neighbourhood_cleansed_South End\", \"neighbourhood_cleansed_Beacon Hill\", \"bedrooms\", \"neighbourhood_cleansed_Back Bay\", \"neighbourhood_cleansed_Bay Village\", \"neighbourhood_cleansed_South Boston Waterfront\", \"neighbourhood_cleansed_Leather District\"], \"xaxis\": \"x\", \"y\": [-87.4993323542416, -82.00154240489543, -70.94205787845772, -67.55572473965253, -59.80814719615219, -58.12272289160872, -56.236922247930565, -52.27962174019047, -49.68898894962375, -49.222150381546044, -38.865521517483025, -36.75415910189599, -32.68432269132745, -26.451161681761917, -19.414682632831905, -17.968006217443715, -17.80545281236983, -17.14546244920551, -16.271187442446926, -15.313966187954943, -12.018349346916537, -11.703804809282554, -9.123951168366297, -7.217550132681161, -5.447954424231387, -3.2229087732636614, -2.5136586944392167, -1.1803261881470135, -0.14571187702536292, -0.023905816135544666, -0.01835854053338959, -0.014806666106515931, -0.009705851946278307, -0.0015568368018854528, -0.0004975893668586195, 0.0049676810594572185, 0.005634997745430068, 0.015584222314640295, 0.02437614641309732, 0.2351823755231588, 0.5450409619031271, 0.753251483307135, 1.3677015444289902, 1.4481407482201516, 2.6602088302728495, 2.834022463691408, 2.9889874184394642, 3.8581547127016993, 4.410044839657484, 5.406504259970054, 5.953368811469879, 6.524077870963529, 6.548749171660486, 7.7050673167966615, 10.957277225075364, 10.988916831340896, 12.10858307098242, 12.37699316794511, 15.128229267373294, 16.819398131277083, 17.384338259895696, 18.05093615815514, 18.06328639116502, 24.2560865792898, 25.381362725771098, 26.081894513344757, 34.54110024353643, 34.88544169888469, 36.01170263760588, 36.6880125795177, 39.164507236105344, 41.74125341002406, 43.59662413096465, 46.99546351431155, 50.98226854699928, 57.20045833694872, 64.03013633033225, 67.63349747553409, 67.89234242434318, 85.2796187243867, 110.22433905345558], \"yaxis\": \"y\"}],\n",
       "                        {\"barmode\": \"relative\", \"height\": 600, \"legend\": {\"tracegroupgap\": 0}, \"margin\": {\"t\": 60}, \"template\": {\"data\": {\"bar\": [{\"error_x\": {\"color\": \"#2a3f5f\"}, \"error_y\": {\"color\": \"#2a3f5f\"}, \"marker\": {\"line\": {\"color\": \"#E5ECF6\", \"width\": 0.5}}, \"type\": \"bar\"}], \"barpolar\": [{\"marker\": {\"line\": {\"color\": \"#E5ECF6\", \"width\": 0.5}}, \"type\": \"barpolar\"}], \"carpet\": [{\"aaxis\": {\"endlinecolor\": \"#2a3f5f\", \"gridcolor\": \"white\", \"linecolor\": \"white\", \"minorgridcolor\": \"white\", \"startlinecolor\": \"#2a3f5f\"}, \"baxis\": {\"endlinecolor\": \"#2a3f5f\", \"gridcolor\": \"white\", \"linecolor\": \"white\", \"minorgridcolor\": \"white\", \"startlinecolor\": \"#2a3f5f\"}, \"type\": \"carpet\"}], \"choropleth\": [{\"colorbar\": {\"outlinewidth\": 0, \"ticks\": \"\"}, \"type\": \"choropleth\"}], \"contour\": [{\"colorbar\": {\"outlinewidth\": 0, \"ticks\": \"\"}, \"colorscale\": [[0.0, \"#0d0887\"], [0.1111111111111111, \"#46039f\"], [0.2222222222222222, \"#7201a8\"], [0.3333333333333333, \"#9c179e\"], [0.4444444444444444, \"#bd3786\"], [0.5555555555555556, \"#d8576b\"], [0.6666666666666666, \"#ed7953\"], [0.7777777777777778, \"#fb9f3a\"], [0.8888888888888888, \"#fdca26\"], [1.0, \"#f0f921\"]], \"type\": \"contour\"}], \"contourcarpet\": [{\"colorbar\": {\"outlinewidth\": 0, \"ticks\": \"\"}, \"type\": \"contourcarpet\"}], \"heatmap\": [{\"colorbar\": {\"outlinewidth\": 0, \"ticks\": \"\"}, \"colorscale\": [[0.0, \"#0d0887\"], [0.1111111111111111, \"#46039f\"], [0.2222222222222222, \"#7201a8\"], [0.3333333333333333, \"#9c179e\"], [0.4444444444444444, \"#bd3786\"], [0.5555555555555556, \"#d8576b\"], [0.6666666666666666, \"#ed7953\"], [0.7777777777777778, \"#fb9f3a\"], [0.8888888888888888, \"#fdca26\"], [1.0, \"#f0f921\"]], \"type\": \"heatmap\"}], \"heatmapgl\": [{\"colorbar\": {\"outlinewidth\": 0, \"ticks\": \"\"}, \"colorscale\": [[0.0, \"#0d0887\"], [0.1111111111111111, \"#46039f\"], [0.2222222222222222, \"#7201a8\"], [0.3333333333333333, \"#9c179e\"], [0.4444444444444444, \"#bd3786\"], [0.5555555555555556, \"#d8576b\"], [0.6666666666666666, \"#ed7953\"], [0.7777777777777778, \"#fb9f3a\"], [0.8888888888888888, \"#fdca26\"], [1.0, \"#f0f921\"]], \"type\": \"heatmapgl\"}], \"histogram\": [{\"marker\": {\"colorbar\": {\"outlinewidth\": 0, \"ticks\": \"\"}}, \"type\": \"histogram\"}], \"histogram2d\": [{\"colorbar\": {\"outlinewidth\": 0, \"ticks\": \"\"}, \"colorscale\": [[0.0, \"#0d0887\"], [0.1111111111111111, \"#46039f\"], [0.2222222222222222, \"#7201a8\"], [0.3333333333333333, \"#9c179e\"], [0.4444444444444444, \"#bd3786\"], [0.5555555555555556, \"#d8576b\"], [0.6666666666666666, \"#ed7953\"], [0.7777777777777778, \"#fb9f3a\"], [0.8888888888888888, \"#fdca26\"], [1.0, \"#f0f921\"]], \"type\": \"histogram2d\"}], \"histogram2dcontour\": [{\"colorbar\": {\"outlinewidth\": 0, \"ticks\": \"\"}, \"colorscale\": [[0.0, \"#0d0887\"], [0.1111111111111111, \"#46039f\"], [0.2222222222222222, \"#7201a8\"], [0.3333333333333333, \"#9c179e\"], [0.4444444444444444, \"#bd3786\"], [0.5555555555555556, \"#d8576b\"], [0.6666666666666666, \"#ed7953\"], [0.7777777777777778, \"#fb9f3a\"], [0.8888888888888888, \"#fdca26\"], [1.0, \"#f0f921\"]], \"type\": \"histogram2dcontour\"}], \"mesh3d\": [{\"colorbar\": {\"outlinewidth\": 0, \"ticks\": \"\"}, \"type\": \"mesh3d\"}], \"parcoords\": [{\"line\": {\"colorbar\": {\"outlinewidth\": 0, \"ticks\": \"\"}}, \"type\": \"parcoords\"}], \"pie\": [{\"automargin\": true, \"type\": \"pie\"}], \"scatter\": [{\"marker\": {\"colorbar\": {\"outlinewidth\": 0, \"ticks\": \"\"}}, \"type\": \"scatter\"}], \"scatter3d\": [{\"line\": {\"colorbar\": {\"outlinewidth\": 0, \"ticks\": \"\"}}, \"marker\": {\"colorbar\": {\"outlinewidth\": 0, \"ticks\": \"\"}}, \"type\": \"scatter3d\"}], \"scattercarpet\": [{\"marker\": {\"colorbar\": {\"outlinewidth\": 0, \"ticks\": \"\"}}, \"type\": \"scattercarpet\"}], \"scattergeo\": [{\"marker\": {\"colorbar\": {\"outlinewidth\": 0, \"ticks\": \"\"}}, \"type\": \"scattergeo\"}], \"scattergl\": [{\"marker\": {\"colorbar\": {\"outlinewidth\": 0, \"ticks\": \"\"}}, \"type\": \"scattergl\"}], \"scattermapbox\": [{\"marker\": {\"colorbar\": {\"outlinewidth\": 0, \"ticks\": \"\"}}, \"type\": \"scattermapbox\"}], \"scatterpolar\": [{\"marker\": {\"colorbar\": {\"outlinewidth\": 0, \"ticks\": \"\"}}, \"type\": \"scatterpolar\"}], \"scatterpolargl\": [{\"marker\": {\"colorbar\": {\"outlinewidth\": 0, \"ticks\": \"\"}}, \"type\": \"scatterpolargl\"}], \"scatterternary\": [{\"marker\": {\"colorbar\": {\"outlinewidth\": 0, \"ticks\": \"\"}}, \"type\": \"scatterternary\"}], \"surface\": [{\"colorbar\": {\"outlinewidth\": 0, \"ticks\": \"\"}, \"colorscale\": [[0.0, \"#0d0887\"], [0.1111111111111111, \"#46039f\"], [0.2222222222222222, \"#7201a8\"], [0.3333333333333333, \"#9c179e\"], [0.4444444444444444, \"#bd3786\"], [0.5555555555555556, \"#d8576b\"], [0.6666666666666666, \"#ed7953\"], [0.7777777777777778, \"#fb9f3a\"], [0.8888888888888888, \"#fdca26\"], [1.0, \"#f0f921\"]], \"type\": \"surface\"}], \"table\": [{\"cells\": {\"fill\": {\"color\": \"#EBF0F8\"}, \"line\": {\"color\": \"white\"}}, \"header\": {\"fill\": {\"color\": \"#C8D4E3\"}, \"line\": {\"color\": \"white\"}}, \"type\": \"table\"}]}, \"layout\": {\"annotationdefaults\": {\"arrowcolor\": \"#2a3f5f\", \"arrowhead\": 0, \"arrowwidth\": 1}, \"coloraxis\": {\"colorbar\": {\"outlinewidth\": 0, \"ticks\": \"\"}}, \"colorscale\": {\"diverging\": [[0, \"#8e0152\"], [0.1, \"#c51b7d\"], [0.2, \"#de77ae\"], [0.3, \"#f1b6da\"], [0.4, \"#fde0ef\"], [0.5, \"#f7f7f7\"], [0.6, \"#e6f5d0\"], [0.7, \"#b8e186\"], [0.8, \"#7fbc41\"], [0.9, \"#4d9221\"], [1, \"#276419\"]], \"sequential\": [[0.0, \"#0d0887\"], [0.1111111111111111, \"#46039f\"], [0.2222222222222222, \"#7201a8\"], [0.3333333333333333, \"#9c179e\"], [0.4444444444444444, \"#bd3786\"], [0.5555555555555556, \"#d8576b\"], [0.6666666666666666, \"#ed7953\"], [0.7777777777777778, \"#fb9f3a\"], [0.8888888888888888, \"#fdca26\"], [1.0, \"#f0f921\"]], \"sequentialminus\": [[0.0, \"#0d0887\"], [0.1111111111111111, \"#46039f\"], [0.2222222222222222, \"#7201a8\"], [0.3333333333333333, \"#9c179e\"], [0.4444444444444444, \"#bd3786\"], [0.5555555555555556, \"#d8576b\"], [0.6666666666666666, \"#ed7953\"], [0.7777777777777778, \"#fb9f3a\"], [0.8888888888888888, \"#fdca26\"], [1.0, \"#f0f921\"]]}, \"colorway\": [\"#636efa\", \"#EF553B\", \"#00cc96\", \"#ab63fa\", \"#FFA15A\", \"#19d3f3\", \"#FF6692\", \"#B6E880\", \"#FF97FF\", \"#FECB52\"], \"font\": {\"color\": \"#2a3f5f\"}, \"geo\": {\"bgcolor\": \"white\", \"lakecolor\": \"white\", \"landcolor\": \"#E5ECF6\", \"showlakes\": true, \"showland\": true, \"subunitcolor\": \"white\"}, \"hoverlabel\": {\"align\": \"left\"}, \"hovermode\": \"closest\", \"mapbox\": {\"style\": \"light\"}, \"paper_bgcolor\": \"white\", \"plot_bgcolor\": \"#E5ECF6\", \"polar\": {\"angularaxis\": {\"gridcolor\": \"white\", \"linecolor\": \"white\", \"ticks\": \"\"}, \"bgcolor\": \"#E5ECF6\", \"radialaxis\": {\"gridcolor\": \"white\", \"linecolor\": \"white\", \"ticks\": \"\"}}, \"scene\": {\"xaxis\": {\"backgroundcolor\": \"#E5ECF6\", \"gridcolor\": \"white\", \"gridwidth\": 2, \"linecolor\": \"white\", \"showbackground\": true, \"ticks\": \"\", \"zerolinecolor\": \"white\"}, \"yaxis\": {\"backgroundcolor\": \"#E5ECF6\", \"gridcolor\": \"white\", \"gridwidth\": 2, \"linecolor\": \"white\", \"showbackground\": true, \"ticks\": \"\", \"zerolinecolor\": \"white\"}, \"zaxis\": {\"backgroundcolor\": \"#E5ECF6\", \"gridcolor\": \"white\", \"gridwidth\": 2, \"linecolor\": \"white\", \"showbackground\": true, \"ticks\": \"\", \"zerolinecolor\": \"white\"}}, \"shapedefaults\": {\"line\": {\"color\": \"#2a3f5f\"}}, \"ternary\": {\"aaxis\": {\"gridcolor\": \"white\", \"linecolor\": \"white\", \"ticks\": \"\"}, \"baxis\": {\"gridcolor\": \"white\", \"linecolor\": \"white\", \"ticks\": \"\"}, \"bgcolor\": \"#E5ECF6\", \"caxis\": {\"gridcolor\": \"white\", \"linecolor\": \"white\", \"ticks\": \"\"}}, \"title\": {\"x\": 0.05}, \"xaxis\": {\"automargin\": true, \"gridcolor\": \"white\", \"linecolor\": \"white\", \"ticks\": \"\", \"title\": {\"standoff\": 15}, \"zerolinecolor\": \"white\", \"zerolinewidth\": 2}, \"yaxis\": {\"automargin\": true, \"gridcolor\": \"white\", \"linecolor\": \"white\", \"ticks\": \"\", \"title\": {\"standoff\": 15}, \"zerolinecolor\": \"white\", \"zerolinewidth\": 2}}}, \"xaxis\": {\"anchor\": \"y\", \"domain\": [0.0, 1.0], \"title\": {\"text\": \"features\"}}, \"yaxis\": {\"anchor\": \"x\", \"domain\": [0.0, 1.0], \"title\": {\"text\": \"coefficients\"}}},\n",
       "                        {\"responsive\": true}\n",
       "                    ).then(function(){\n",
       "                            \n",
       "var gd = document.getElementById('97b9a027-733f-484b-82df-05858e9b9697');\n",
       "var x = new MutationObserver(function (mutations, observer) {{\n",
       "        var display = window.getComputedStyle(gd).display;\n",
       "        if (!display || display === 'none') {{\n",
       "            console.log([gd, 'removed!']);\n",
       "            Plotly.purge(gd);\n",
       "            observer.disconnect();\n",
       "        }}\n",
       "}});\n",
       "\n",
       "// Listen for the removal of the full notebook cells\n",
       "var notebookContainer = gd.closest('#notebook-container');\n",
       "if (notebookContainer) {{\n",
       "    x.observe(notebookContainer, {childList: true});\n",
       "}}\n",
       "\n",
       "// Listen for the clearing of the current output cell\n",
       "var outputEl = gd.closest('.output');\n",
       "if (outputEl) {{\n",
       "    x.observe(outputEl, {childList: true});\n",
       "}}\n",
       "\n",
       "                        })\n",
       "                };\n",
       "                });\n",
       "            </script>\n",
       "        </div>"
      ]
     },
     "metadata": {},
     "output_type": "display_data"
    }
   ],
   "source": [
    "feature_importance = pd.DataFrame(\n",
    "    {'features': X.columns, 'coefficients': model.coef_}\n",
    ").sort_values(by='coefficients')\n",
    "feature_importance['features'] = feature_importance['features']\n",
    "\n",
    "import plotly.express as px\n",
    "fig = px.bar(x='features', y='coefficients', data_frame=feature_importance, height=600)\n",
    "fig.show();"
   ]
  },
  {
   "cell_type": "markdown",
   "metadata": {},
   "source": [
    "With this birds eye view of the coefficients we can see quite a few features having little to no impact on the price according to our linear regression model. Notable features that don't influence the price here:\n",
    "\n",
    "- the length of the descriptions provided for different aspects of the listing such as the summary, information about the space, transit, etc.\n",
    "- details about the host such as their response time/rate and number of listings\n",
    "- number of reviews or the average rating given to a listing\n",
    "\n",
    "Below we pull out the features deemed relevant by the model in predicting the price. The neighbourhood, property type and room type, alongside the number of rooms and properties stand out as key features in deciding the price.\n",
    "\n",
    "The way to read this would be to go through the different features and add/subtract the coefficients together to get a rough idea for what price to put your Airbnb up for. To this you then need to add the **'intercept' of the model**, in our case $-\\$86$. That means you need to subtract $\\$86$ from the final price. The intercept is negative because we have certain features such as bedrooms which start at 1 instead of 0.\n",
    "\n",
    "For example, say I have a two bed apartment in South End that I want to rent out in January. I would calculate\n",
    "\n",
    "- $+\\$50$ for the South End neighbourhood\n",
    "- $+\\$20$ because it's an apartment\n",
    "- $-\\$20$ since January is a cheap month\n",
    "- $+\\$0$ because I want to use a moderate cancellation policy\n",
    "- $+\\$42$ since I'll rent out the whole apartment\n",
    "- $+2\\times\\$63$ for the two bedrooms\n",
    "- $+\\$35$ for the one bathroom\n",
    "- $+3\\times\\$3$ for the three beds (there's a sofa bed)\n",
    "- $+6\\times\\$3$ since the place accommodates 6 people\n",
    "- $-\\$86$ for the intercept\n",
    "\n",
    "Therefore the model says I should put the place up for a price around $\\$194$. Again, bearing in mind the potential error margin here, I might think that my apartment is in a particularly nice part of South End and want to push the price up a bit. Maybe it's a bit of a cheek calling it a two-bed and knock a few dollars off.\n",
    "\n",
    "Feel free to go through the features here to get a rough idea of how much you might price your property."
   ]
  },
  {
   "cell_type": "code",
   "execution_count": 27,
   "metadata": {
    "jupyter": {
     "source_hidden": true
    }
   },
   "outputs": [
    {
     "data": {
      "image/png": "[encoded data removed]",
      "text/plain": [
       "<Figure size 1400x800 with 6 Axes>"
      ]
     },
     "metadata": {},
     "output_type": "display_data"
    }
   ],
   "source": [
    "color_palette = 'icefire'\n",
    "fig, axs = plt.subplots(2, 3, figsize=(14, 8), dpi=100,\n",
    "                        gridspec_kw = {'height_ratios': [4, 2]})\n",
    "\n",
    "# Neighbourhoods\n",
    "_ = feature_importance[feature_importance.features.str.contains('neighbourhood_cleansed')].copy()\n",
    "_.features = _.features.str.lstrip('neighbourhood_cleansed_')\n",
    "sns.barplot(\n",
    "    y='features', x='coefficients',\n",
    "    orient='h', data=_,\n",
    "    palette=color_palette,\n",
    "    ax=axs[0, 0]\n",
    ")\n",
    "axs[0, 0].set_title('Neighbourhood features')\n",
    "\n",
    "# Property type\n",
    "_ = feature_importance[feature_importance.features.str.contains('property_type')].copy()\n",
    "_.features = _.features.str.lstrip('property_type_')\n",
    "sns.barplot(\n",
    "    y='features', x='coefficients',\n",
    "    orient='h', data=_,\n",
    "    palette=color_palette,\n",
    "    ax = axs[0, 1]\n",
    ");\n",
    "axs[0, 1].set_title('Property Type')\n",
    "\n",
    "# Month plot\n",
    "_ = feature_importance[feature_importance.features.str.contains('month_')].copy()\n",
    "_.features = _.features.str.lstrip('month_')\n",
    "_.features = _.features.astype('category')\n",
    "sorter = ['Jan', 'Feb', 'Mar', 'Apr', 'May', 'Jun', 'Jul', 'Aug', 'Sep', 'Oct', 'Nov', 'Dec']\n",
    "_['features'].cat.set_categories(sorter, inplace=True)\n",
    "sns.barplot(\n",
    "    y='features', x='coefficients',\n",
    "    orient='h', data=_,\n",
    "    palette=color_palette,\n",
    "    ax = axs[0, 2]\n",
    ");\n",
    "axs[0, 2].set_title('Month')\n",
    "\n",
    "# Cancellation policy\n",
    "_ = feature_importance[feature_importance.features.str.contains('cancellation')].copy()\n",
    "_.features = _.features.str.lstrip('cancellation_policy_')\n",
    "sns.barplot(\n",
    "    y='features', x='coefficients',\n",
    "    orient='h', data=_,\n",
    "    palette=color_palette,\n",
    "    ax = axs[1, 0]\n",
    ");\n",
    "axs[1, 0].set_title('Cancellation Policy')\n",
    "\n",
    "# Room type\n",
    "_ = feature_importance[feature_importance.features.str.contains('room_type')].copy()\n",
    "_.features = _.features.str.lstrip('room_type_')\n",
    "sns.barplot(\n",
    "    y='features', x='coefficients',\n",
    "    orient='h', data=_,\n",
    "    palette=color_palette,\n",
    "    ax = axs[1, 1]\n",
    ");\n",
    "axs[1, 1].set_title('Room Type')\n",
    "\n",
    "# Bedrooms, Bathrooms, etc.\n",
    "other  = feature_importance[feature_importance.features.isin(['bedrooms', 'bathrooms', 'beds', 'accommodates', 'host_is_superhost', 'is_local'])].copy()\n",
    "sns.barplot(\n",
    "    y='features', x='coefficients',\n",
    "    orient='h', data=other,\n",
    "    palette=color_palette,\n",
    "    ax = axs[1, 2]\n",
    ");\n",
    "axs[1, 2].set_title('Other features')\n",
    "\n",
    "fig.tight_layout()\n",
    "plt.show();"
   ]
  },
  {
   "cell_type": "markdown",
   "metadata": {},
   "source": [
    "There are some clear drawbacks to this model. For one thing, it's possible to plug in data to return a negative listing price implying that you should pay someone to come and stay in your dorm in West Roxbury in December. However, whilst Linear Regression in this case may not be the best method to accurately predict listing prices, it does provide an easily interpeted model that can be used (at least in some form) without even needing to use anything other than a pen and paper.\n",
    "\n",
    "We'll now look at some ensemble methods to see if we can account for more of the variation in the data."
   ]
  },
  {
   "cell_type": "markdown",
   "metadata": {},
   "source": [
    "### Ensemble methods\n",
    "\n",
    "As mentioned, ensembled methods allow us leverage the flexibility of (in this case) tree-based models whilst reducing their tendency to memorise noise."
   ]
  },
  {
   "cell_type": "markdown",
   "metadata": {},
   "source": [
    "#### Random Forests\n",
    "\n",
    "Random Forests is one of the most powerful Machine Learning algorithms, despite its simplicity. It is an ensemble of Decision Trees, taking the average prediction from multiple individual trees all trained on a different random subset of the training data. Let's see how it does on our data."
   ]
  },
  {
   "cell_type": "code",
   "execution_count": 49,
   "metadata": {},
   "outputs": [
    {
     "name": "stdout",
     "output_type": "stream",
     "text": [
      "Train R-squared: 0.935\tTrain RMSE: $39.03    \n",
      "Test R-squared: 0.937\tTest RMSE: $38.17\n"
     ]
    }
   ],
   "source": [
    "from sklearn.ensemble import RandomForestRegressor\n",
    "\n",
    "rf = RandomForestRegressor(n_estimators=20, n_jobs=-1)\n",
    "rf.fit(X_train, y_train)\n",
    "y_pred_train = rf.predict(X_train)\n",
    "y_pred_test = rf.predict(X_test)\n",
    "\n",
    "r2_train = r2_score(y_train, y_pred_train)\n",
    "r2_test = r2_score(y_test, y_pred_test)\n",
    "rmse_train = (mean_squared_error(y_train, y_pred_train))**0.5\n",
    "rmse_test = (mean_squared_error(y_test, y_pred_test))**0.5\n",
    "\n",
    "print(\n",
    "    'Train R-squared: {:.3f}\\tTrain RMSE: ${:.2f}\\\n",
    "    \\nTest R-squared: {:.3f}\\tTest RMSE: ${:.2f}'\n",
    "    .format(r2_train, rmse_train, r2_test, rmse_test)\n",
    ")"
   ]
  },
  {
   "cell_type": "markdown",
   "metadata": {},
   "source": [
    "Over 90% of the variance accounted for using Random Forests and with no sign of overfitting! Note though the sizable residual error standard deviation. There is stil a room for error even with so much of the variability in our dataset accounted for.\n",
    "\n",
    "We'll look at the key features driving the prediction in a moment. First we'll look at a second ensemble method."
   ]
  },
  {
   "cell_type": "markdown",
   "metadata": {},
   "source": [
    "#### XGBoost\n",
    "\n",
    "XGBoost stands for Extreme Gradient Boosting, a \"boosting\" ensemble method that works by sequentially adding predictors to an ensemble, each one correcting its predecessor. Another popular boosting method is AdaBoost, which stands for Adaptive Boosting."
   ]
  },
  {
   "cell_type": "code",
   "execution_count": 51,
   "metadata": {},
   "outputs": [
    {
     "name": "stdout",
     "output_type": "stream",
     "text": [
      "Train R-squared: 0.902\tTrain RMSE: $47.99    \n",
      "Test R-squared: 0.905\tTest RMSE: $46.91\n"
     ]
    }
   ],
   "source": [
    "from xgboost import XGBRegressor\n",
    "\n",
    "xgb = XGBRegressor()\n",
    "xgb.fit(X_train, y_train)\n",
    "y_pred_train = xgb.predict(X_train)\n",
    "y_pred_test = xgb.predict(X_test)\n",
    "\n",
    "r2_train = r2_score(y_train, y_pred_train)\n",
    "r2_test = r2_score(y_test, y_pred_test)\n",
    "rmse_train = (mean_squared_error(y_train, y_pred_train))**0.5\n",
    "rmse_test = (mean_squared_error(y_test, y_pred_test))**0.5\n",
    "\n",
    "print(\n",
    "    'Train R-squared: {:.3f}\\tTrain RMSE: ${:.2f}\\\n",
    "    \\nTest R-squared: {:.3f}\\tTest RMSE: ${:.2f}'\n",
    "    .format(r2_train, rmse_train, r2_test, rmse_test)\n",
    ")"
   ]
  },
  {
   "cell_type": "markdown",
   "metadata": {},
   "source": [
    "We've chosen tree-based models here not only for their flexibility but also their ability to assess feature importance. Feature importance is measured by how much the tree nodes use a particular feature to predict prices. Scikit-Learn scales the results so that the sum of all importances is equal to 1.\n",
    "\n",
    "Let's see the top most important features according to the two ensemble methods."
   ]
  },
  {
   "cell_type": "code",
   "execution_count": 73,
   "metadata": {
    "jupyter": {
     "source_hidden": true
    }
   },
   "outputs": [
    {
     "data": {
      "image/png": "[encoded data removed]",
      "text/plain": [
       "<Figure size 1200x480 with 2 Axes>"
      ]
     },
     "metadata": {},
     "output_type": "display_data"
    }
   ],
   "source": [
    "# Random Forest feature importance\n",
    "feature_importance_rf = pd.DataFrame(\n",
    "    {'features': X.columns, 'importance': rf.feature_importances_}\n",
    ").sort_values(by='importance', ascending=False)\n",
    "\n",
    "# XGBoost feature importance\n",
    "feature_importance_xgb = pd.DataFrame(\n",
    "    {'features': X.columns, 'importance': xgb.feature_importances_}\n",
    ").sort_values(by='importance', ascending=False)\n",
    "\n",
    "fig, axs = plt.subplots(1, 2, figsize=(15, 6), dpi=80)\n",
    "sns.barplot(\n",
    "    x='importance', y='features', data=feature_importance_rf.head(15),\n",
    "    orient='h', palette='Blues_r', ax=axs[0]\n",
    ")\n",
    "axs[0].set_title('Random Forests Feature Importance')\n",
    "sns.barplot(\n",
    "    x='importance', y='features', data=feature_importance_xgb.head(15),\n",
    "    orient='h', palette='Blues_r', ax=axs[1]\n",
    ");\n",
    "axs[1].set_title('XGBoost Feature Importance')\n",
    "axs[1].set_ylabel('')\n",
    "plt.tight_layout()\n",
    "plt.show()"
   ]
  },
  {
   "cell_type": "markdown",
   "metadata": {},
   "source": [
    "Both ensemble methods are aligned that the number of bedrooms, bathrooms and whether the listing is an entire home/apt or not are the most important features. For both models, these features account for 57% of the importance. The rest of the features attribute small importances to the models."
   ]
  },
  {
   "cell_type": "markdown",
   "metadata": {},
   "source": [
    "## Conclusion\n",
    "\n",
    "### Avoiding complexity\n",
    "\n",
    "Through the models chosen and with the task at hand, we've managed to avoid some extra steps here in making our predictions. We did not need to scale our data since we used Linear Regression rather than one of the regularized methods and scaling did not impact the ensemble methods. Further, since we are only providing guidelines, we did not need to optimize our models with hyperparameter tuning. Our ensemble methods scored well enough by most standards without the added complexity.\n",
    "\n",
    "\n",
    "### That _Je Ne Sais Quoi_\n",
    "\n",
    "The models have given us some sensible guidelines for choosing how much to put a place up for on Airbnb but in each case, there was a sizeable error margin.\n",
    "\n",
    "While our models do a great job at generalizing prices based on features, each listing is unique and what makes a traveller decide that your place is worth the money comes down to many features we won't be able to capture, although Airbnb do their best with their model.\n",
    "\n"
   ]
  }
 ],
 "metadata": {
  "kernelspec": {
   "display_name": "Python 3",
   "language": "python",
   "name": "python3"
  },
  "language_info": {
   "codemirror_mode": {
    "name": "ipython",
    "version": 3
   },
   "file_extension": ".py",
   "mimetype": "text/x-python",
   "name": "python",
   "nbconvert_exporter": "python",
   "pygments_lexer": "ipython3",
   "version": "3.7.3"
  }
 },
 "nbformat": 4,
 "nbformat_minor": 4
}
