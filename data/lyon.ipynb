{
 "metadata": {
  "language_info": {
   "codemirror_mode": {
    "name": "ipython",
    "version": 3
   },
   "file_extension": ".py",
   "mimetype": "text/x-python",
   "name": "python",
   "nbconvert_exporter": "python",
   "pygments_lexer": "ipython3",
   "version": "3.7.3-final"
  },
  "orig_nbformat": 2,
  "kernelspec": {
   "name": "python3",
   "display_name": "Python 3",
   "language": "python"
  }
 },
 "nbformat": 4,
 "nbformat_minor": 2,
 "cells": [
  {
   "source": [
    "# EDA of Lyon Airbnb data"
   ],
   "cell_type": "markdown",
   "metadata": {}
  },
  {
   "cell_type": "code",
   "execution_count": 2,
   "metadata": {},
   "outputs": [],
   "source": [
    "calendar = pd.read_csv('data/lyon/calendar.csv')\n",
    "listings = pd.read_csv('data/lyon/listings.csv')\n",
    "neighbourhoods = pd.read_csv('data/lyon/neighbourhoods.csv')\n",
    "reviews = pd.read_csv('data/lyon/reviews.csv')"
   ]
  },
  {
   "cell_type": "code",
   "execution_count": 3,
   "metadata": {},
   "outputs": [
    {
     "output_type": "display_data",
     "data": {
      "text/plain": "   listing_id        date available   price adjusted_price  minimum_nights  \\\n0     1115943  2020-10-24         f  $50.00         $50.00               1   \n1     1105134  2020-10-24         f  $45.00         $45.00               7   \n2     1105134  2020-10-25         f  $45.00         $45.00               7   \n3     1105134  2020-10-26         f  $45.00         $45.00               7   \n4     1105134  2020-10-27         f  $45.00         $45.00               7   \n\n   maximum_nights  \n0            1125  \n1             360  \n2             360  \n3             360  \n4             360  ",
      "text/html": "<div>\n<style scoped>\n    .dataframe tbody tr th:only-of-type {\n        vertical-align: middle;\n    }\n\n    .dataframe tbody tr th {\n        vertical-align: top;\n    }\n\n    .dataframe thead th {\n        text-align: right;\n    }\n</style>\n<table border=\"1\" class=\"dataframe\">\n  <thead>\n    <tr style=\"text-align: right;\">\n      <th></th>\n      <th>listing_id</th>\n      <th>date</th>\n      <th>available</th>\n      <th>price</th>\n      <th>adjusted_price</th>\n      <th>minimum_nights</th>\n      <th>maximum_nights</th>\n    </tr>\n  </thead>\n  <tbody>\n    <tr>\n      <td>0</td>\n      <td>1115943</td>\n      <td>2020-10-24</td>\n      <td>f</td>\n      <td>$50.00</td>\n      <td>$50.00</td>\n      <td>1</td>\n      <td>1125</td>\n    </tr>\n    <tr>\n      <td>1</td>\n      <td>1105134</td>\n      <td>2020-10-24</td>\n      <td>f</td>\n      <td>$45.00</td>\n      <td>$45.00</td>\n      <td>7</td>\n      <td>360</td>\n    </tr>\n    <tr>\n      <td>2</td>\n      <td>1105134</td>\n      <td>2020-10-25</td>\n      <td>f</td>\n      <td>$45.00</td>\n      <td>$45.00</td>\n      <td>7</td>\n      <td>360</td>\n    </tr>\n    <tr>\n      <td>3</td>\n      <td>1105134</td>\n      <td>2020-10-26</td>\n      <td>f</td>\n      <td>$45.00</td>\n      <td>$45.00</td>\n      <td>7</td>\n      <td>360</td>\n    </tr>\n    <tr>\n      <td>4</td>\n      <td>1105134</td>\n      <td>2020-10-27</td>\n      <td>f</td>\n      <td>$45.00</td>\n      <td>$45.00</td>\n      <td>7</td>\n      <td>360</td>\n    </tr>\n  </tbody>\n</table>\n</div>"
     },
     "metadata": {}
    },
    {
     "output_type": "display_data",
     "data": {
      "text/plain": "       id                                 name  host_id          host_name  \\\n0   56766   Amazing duplex-terrace in old Lyon   269557           Isabelle   \n1   71455     La Loge des Avocats - Vieux Lyon   365968  Daphné Et Vincent   \n2   77104      Nice Flat in the center of Lyon   411285         Clementine   \n3  134539   Centre of old town,home sweet home   660135             Polali   \n4  136556  At home near Les Halles Paul Bocuse   668524           Nathalie   \n\n   neighbourhood_group       neighbourhood  latitude  longitude  \\\n0                  NaN   5e Arrondissement  45.76321    4.82911   \n1                  NaN   5e Arrondissement  45.76206    4.82751   \n2                  NaN  1er Arrondissement  45.76962    4.82750   \n3                  NaN   5e Arrondissement  45.75930    4.82548   \n4                  NaN   3e Arrondissement  45.76208    4.85327   \n\n         room_type  price  minimum_nights  number_of_reviews last_review  \\\n0  Entire home/apt    250              14                 55  2018-09-04   \n1  Entire home/apt     80               2                  7  2018-11-18   \n2  Entire home/apt     70               2                 20  2020-06-30   \n3  Entire home/apt     60               3                120  2020-09-30   \n4  Entire home/apt     99               3                 10  2019-11-03   \n\n   reviews_per_month  calculated_host_listings_count  availability_365  \n0               0.45                               1               195  \n1               0.12                               1               177  \n2               0.63                               1               307  \n3               5.92                               1                 0  \n4               0.69                               1                 0  ",
      "text/html": "<div>\n<style scoped>\n    .dataframe tbody tr th:only-of-type {\n        vertical-align: middle;\n    }\n\n    .dataframe tbody tr th {\n        vertical-align: top;\n    }\n\n    .dataframe thead th {\n        text-align: right;\n    }\n</style>\n<table border=\"1\" class=\"dataframe\">\n  <thead>\n    <tr style=\"text-align: right;\">\n      <th></th>\n      <th>id</th>\n      <th>name</th>\n      <th>host_id</th>\n      <th>host_name</th>\n      <th>neighbourhood_group</th>\n      <th>neighbourhood</th>\n      <th>latitude</th>\n      <th>longitude</th>\n      <th>room_type</th>\n      <th>price</th>\n      <th>minimum_nights</th>\n      <th>number_of_reviews</th>\n      <th>last_review</th>\n      <th>reviews_per_month</th>\n      <th>calculated_host_listings_count</th>\n      <th>availability_365</th>\n    </tr>\n  </thead>\n  <tbody>\n    <tr>\n      <td>0</td>\n      <td>56766</td>\n      <td>Amazing duplex-terrace in old Lyon</td>\n      <td>269557</td>\n      <td>Isabelle</td>\n      <td>NaN</td>\n      <td>5e Arrondissement</td>\n      <td>45.76321</td>\n      <td>4.82911</td>\n      <td>Entire home/apt</td>\n      <td>250</td>\n      <td>14</td>\n      <td>55</td>\n      <td>2018-09-04</td>\n      <td>0.45</td>\n      <td>1</td>\n      <td>195</td>\n    </tr>\n    <tr>\n      <td>1</td>\n      <td>71455</td>\n      <td>La Loge des Avocats - Vieux Lyon</td>\n      <td>365968</td>\n      <td>Daphné Et Vincent</td>\n      <td>NaN</td>\n      <td>5e Arrondissement</td>\n      <td>45.76206</td>\n      <td>4.82751</td>\n      <td>Entire home/apt</td>\n      <td>80</td>\n      <td>2</td>\n      <td>7</td>\n      <td>2018-11-18</td>\n      <td>0.12</td>\n      <td>1</td>\n      <td>177</td>\n    </tr>\n    <tr>\n      <td>2</td>\n      <td>77104</td>\n      <td>Nice Flat in the center of Lyon</td>\n      <td>411285</td>\n      <td>Clementine</td>\n      <td>NaN</td>\n      <td>1er Arrondissement</td>\n      <td>45.76962</td>\n      <td>4.82750</td>\n      <td>Entire home/apt</td>\n      <td>70</td>\n      <td>2</td>\n      <td>20</td>\n      <td>2020-06-30</td>\n      <td>0.63</td>\n      <td>1</td>\n      <td>307</td>\n    </tr>\n    <tr>\n      <td>3</td>\n      <td>134539</td>\n      <td>Centre of old town,home sweet home</td>\n      <td>660135</td>\n      <td>Polali</td>\n      <td>NaN</td>\n      <td>5e Arrondissement</td>\n      <td>45.75930</td>\n      <td>4.82548</td>\n      <td>Entire home/apt</td>\n      <td>60</td>\n      <td>3</td>\n      <td>120</td>\n      <td>2020-09-30</td>\n      <td>5.92</td>\n      <td>1</td>\n      <td>0</td>\n    </tr>\n    <tr>\n      <td>4</td>\n      <td>136556</td>\n      <td>At home near Les Halles Paul Bocuse</td>\n      <td>668524</td>\n      <td>Nathalie</td>\n      <td>NaN</td>\n      <td>3e Arrondissement</td>\n      <td>45.76208</td>\n      <td>4.85327</td>\n      <td>Entire home/apt</td>\n      <td>99</td>\n      <td>3</td>\n      <td>10</td>\n      <td>2019-11-03</td>\n      <td>0.69</td>\n      <td>1</td>\n      <td>0</td>\n    </tr>\n  </tbody>\n</table>\n</div>"
     },
     "metadata": {}
    },
    {
     "output_type": "display_data",
     "data": {
      "text/plain": "   listing_id        date\n0       56766  2010-11-15\n1       56766  2010-11-19\n2       56766  2010-12-05\n3       56766  2011-01-03\n4       56766  2011-03-18",
      "text/html": "<div>\n<style scoped>\n    .dataframe tbody tr th:only-of-type {\n        vertical-align: middle;\n    }\n\n    .dataframe tbody tr th {\n        vertical-align: top;\n    }\n\n    .dataframe thead th {\n        text-align: right;\n    }\n</style>\n<table border=\"1\" class=\"dataframe\">\n  <thead>\n    <tr style=\"text-align: right;\">\n      <th></th>\n      <th>listing_id</th>\n      <th>date</th>\n    </tr>\n  </thead>\n  <tbody>\n    <tr>\n      <td>0</td>\n      <td>56766</td>\n      <td>2010-11-15</td>\n    </tr>\n    <tr>\n      <td>1</td>\n      <td>56766</td>\n      <td>2010-11-19</td>\n    </tr>\n    <tr>\n      <td>2</td>\n      <td>56766</td>\n      <td>2010-12-05</td>\n    </tr>\n    <tr>\n      <td>3</td>\n      <td>56766</td>\n      <td>2011-01-03</td>\n    </tr>\n    <tr>\n      <td>4</td>\n      <td>56766</td>\n      <td>2011-03-18</td>\n    </tr>\n  </tbody>\n</table>\n</div>"
     },
     "metadata": {}
    }
   ],
   "source": [
    "datasets = [calendar, listings, reviews]\n",
    "\n",
    "for dataset in datasets:\n",
    "    display(dataset.head())"
   ]
  },
  {
   "cell_type": "code",
   "execution_count": 6,
   "metadata": {},
   "outputs": [
    {
     "output_type": "stream",
     "name": "stdout",
     "text": [
      "Calendar dates run from 2020-10-24 to 2021-10-23\n"
     ]
    }
   ],
   "source": [
    "cal_start = calendar.date.min()\n",
    "cal_end = calendar.date.max()\n",
    "\n",
    "print(f'Calendar dates run from {cal_start} to {cal_end}')"
   ]
  },
  {
   "cell_type": "code",
   "execution_count": 8,
   "metadata": {},
   "outputs": [
    {
     "output_type": "execute_result",
     "data": {
      "text/plain": [
       "neighbourhood\n",
       "1er Arrondissement     96.081372\n",
       "2e Arrondissement     121.348807\n",
       "3e Arrondissement      88.089770\n",
       "4e Arrondissement      94.040223\n",
       "5e Arrondissement      91.044177\n",
       "6e Arrondissement      86.877684\n",
       "7e Arrondissement      77.946029\n",
       "8e Arrondissement      72.534392\n",
       "9e Arrondissement      78.267677\n",
       "Name: price, dtype: float64"
      ]
     },
     "metadata": {},
     "execution_count": 8
    }
   ],
   "source": [
    "listings.groupby('neighbourhood').mean()['price']"
   ]
  }
 ]
}